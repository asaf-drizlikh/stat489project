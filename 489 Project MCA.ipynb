{
 "cells": [
  {
   "cell_type": "code",
   "execution_count": 9,
   "metadata": {
    "collapsed": true
   },
   "outputs": [],
   "source": [
    "import csv\n",
    "import numpy as np\n",
    "import pandas as pd\n",
    "import matplotlib.pyplot as pp\n",
    "import datetime\n",
    "%matplotlib inline\n",
    "from sklearn.decomposition import PCA\n",
    "import mca"
   ]
  },
  {
   "cell_type": "code",
   "execution_count": 10,
   "metadata": {
    "collapsed": true
   },
   "outputs": [],
   "source": [
    "data = pd.read_csv(\"WISE_NEA_COMET_DISCOVERY_STATISTICS.csv\")"
   ]
  },
  {
   "cell_type": "code",
   "execution_count": 11,
   "metadata": {
    "collapsed": false
   },
   "outputs": [
    {
     "data": {
      "text/html": [
       "<div>\n",
       "<table border=\"1\" class=\"dataframe\">\n",
       "  <thead>\n",
       "    <tr style=\"text-align: right;\">\n",
       "      <th></th>\n",
       "      <th>Designation</th>\n",
       "      <th>Discovery Date YYYY-MM-DD</th>\n",
       "      <th>H (mag)</th>\n",
       "      <th>MOID (AU)</th>\n",
       "      <th>q (AU)</th>\n",
       "      <th>Q (AU)</th>\n",
       "      <th>period (yr)</th>\n",
       "      <th>i (deg)</th>\n",
       "      <th>PHA</th>\n",
       "      <th>Orbit Class</th>\n",
       "    </tr>\n",
       "  </thead>\n",
       "  <tbody>\n",
       "    <tr>\n",
       "      <th>0</th>\n",
       "      <td>419880 (2011 AH37)</td>\n",
       "      <td>01/07/2011</td>\n",
       "      <td>19.7</td>\n",
       "      <td>0.035</td>\n",
       "      <td>0.84</td>\n",
       "      <td>4.26</td>\n",
       "      <td>4.06</td>\n",
       "      <td>9.65</td>\n",
       "      <td>Y</td>\n",
       "      <td>Apollo</td>\n",
       "    </tr>\n",
       "    <tr>\n",
       "      <th>1</th>\n",
       "      <td>419624 (2010 SO16)</td>\n",
       "      <td>09/17/2010</td>\n",
       "      <td>20.5</td>\n",
       "      <td>0.028</td>\n",
       "      <td>0.93</td>\n",
       "      <td>1.08</td>\n",
       "      <td>1.00</td>\n",
       "      <td>14.52</td>\n",
       "      <td>Y</td>\n",
       "      <td>Apollo</td>\n",
       "    </tr>\n",
       "    <tr>\n",
       "      <th>2</th>\n",
       "      <td>414772 (2010 OC103)</td>\n",
       "      <td>07/28/2010</td>\n",
       "      <td>19.0</td>\n",
       "      <td>0.333</td>\n",
       "      <td>0.39</td>\n",
       "      <td>2.00</td>\n",
       "      <td>1.31</td>\n",
       "      <td>23.11</td>\n",
       "      <td>N</td>\n",
       "      <td>Apollo</td>\n",
       "    </tr>\n",
       "    <tr>\n",
       "      <th>3</th>\n",
       "      <td>414746 (2010 EH20)</td>\n",
       "      <td>03/06/2010</td>\n",
       "      <td>18.0</td>\n",
       "      <td>0.268</td>\n",
       "      <td>1.25</td>\n",
       "      <td>3.99</td>\n",
       "      <td>4.24</td>\n",
       "      <td>23.89</td>\n",
       "      <td>N</td>\n",
       "      <td>Amor</td>\n",
       "    </tr>\n",
       "    <tr>\n",
       "      <th>4</th>\n",
       "      <td>407324 (2010 OB101)</td>\n",
       "      <td>07/18/2010</td>\n",
       "      <td>20.7</td>\n",
       "      <td>0.111</td>\n",
       "      <td>0.77</td>\n",
       "      <td>2.46</td>\n",
       "      <td>2.06</td>\n",
       "      <td>9.12</td>\n",
       "      <td>N</td>\n",
       "      <td>Apollo</td>\n",
       "    </tr>\n",
       "  </tbody>\n",
       "</table>\n",
       "</div>"
      ],
      "text/plain": [
       "           Designation Discovery Date YYYY-MM-DD  H (mag)  MOID (AU)  q (AU)  \\\n",
       "0   419880 (2011 AH37)                01/07/2011     19.7      0.035    0.84   \n",
       "1   419624 (2010 SO16)                09/17/2010     20.5      0.028    0.93   \n",
       "2  414772 (2010 OC103)                07/28/2010     19.0      0.333    0.39   \n",
       "3   414746 (2010 EH20)                03/06/2010     18.0      0.268    1.25   \n",
       "4  407324 (2010 OB101)                07/18/2010     20.7      0.111    0.77   \n",
       "\n",
       "   Q (AU)  period (yr)  i (deg) PHA Orbit Class  \n",
       "0    4.26         4.06     9.65   Y      Apollo  \n",
       "1    1.08         1.00    14.52   Y      Apollo  \n",
       "2    2.00         1.31    23.11   N      Apollo  \n",
       "3    3.99         4.24    23.89   N        Amor  \n",
       "4    2.46         2.06     9.12   N      Apollo  "
      ]
     },
     "execution_count": 11,
     "metadata": {},
     "output_type": "execute_result"
    }
   ],
   "source": [
    "data.head()"
   ]
  },
  {
   "cell_type": "code",
   "execution_count": 12,
   "metadata": {
    "collapsed": false
   },
   "outputs": [
    {
     "name": "stderr",
     "output_type": "stream",
     "text": [
      "/usr/lib/python2.7/site-packages/IPython/kernel/__main__.py:2: SettingWithCopyWarning: \n",
      "A value is trying to be set on a copy of a slice from a DataFrame\n",
      "\n",
      "See the caveats in the documentation: http://pandas.pydata.org/pandas-docs/stable/indexing.html#indexing-view-versus-copy\n",
      "  from IPython.kernel.zmq import kernelapp as app\n"
     ]
    },
    {
     "data": {
      "text/html": [
       "<div>\n",
       "<table border=\"1\" class=\"dataframe\">\n",
       "  <thead>\n",
       "    <tr style=\"text-align: right;\">\n",
       "      <th></th>\n",
       "      <th>Designation</th>\n",
       "      <th>Discovery Date YYYY-MM-DD</th>\n",
       "      <th>PHA</th>\n",
       "      <th>Orbit Class</th>\n",
       "    </tr>\n",
       "  </thead>\n",
       "  <tbody>\n",
       "    <tr>\n",
       "      <th>0</th>\n",
       "      <td>419880 (2011 AH37)</td>\n",
       "      <td>01/07/2011</td>\n",
       "      <td>Y</td>\n",
       "      <td>Apollo</td>\n",
       "    </tr>\n",
       "    <tr>\n",
       "      <th>1</th>\n",
       "      <td>419624 (2010 SO16)</td>\n",
       "      <td>09/17/2010</td>\n",
       "      <td>Y</td>\n",
       "      <td>Apollo</td>\n",
       "    </tr>\n",
       "    <tr>\n",
       "      <th>2</th>\n",
       "      <td>414772 (2010 OC103)</td>\n",
       "      <td>07/28/2010</td>\n",
       "      <td>N</td>\n",
       "      <td>Apollo</td>\n",
       "    </tr>\n",
       "    <tr>\n",
       "      <th>3</th>\n",
       "      <td>414746 (2010 EH20)</td>\n",
       "      <td>03/06/2010</td>\n",
       "      <td>N</td>\n",
       "      <td>Amor</td>\n",
       "    </tr>\n",
       "    <tr>\n",
       "      <th>4</th>\n",
       "      <td>407324 (2010 OB101)</td>\n",
       "      <td>07/18/2010</td>\n",
       "      <td>N</td>\n",
       "      <td>Apollo</td>\n",
       "    </tr>\n",
       "  </tbody>\n",
       "</table>\n",
       "</div>"
      ],
      "text/plain": [
       "           Designation Discovery Date YYYY-MM-DD PHA Orbit Class\n",
       "0   419880 (2011 AH37)                01/07/2011   Y      Apollo\n",
       "1   419624 (2010 SO16)                09/17/2010   Y      Apollo\n",
       "2  414772 (2010 OC103)                07/28/2010   N      Apollo\n",
       "3   414746 (2010 EH20)                03/06/2010   N        Amor\n",
       "4  407324 (2010 OB101)                07/18/2010   N      Apollo"
      ]
     },
     "execution_count": 12,
     "metadata": {},
     "output_type": "execute_result"
    }
   ],
   "source": [
    "df = data[:]\n",
    "df.drop(['H (mag)','MOID (AU)','q (AU)','Q (AU)','period (yr)','i (deg)'], axis=1, inplace=True)\n",
    "df.head()"
   ]
  },
  {
   "cell_type": "markdown",
   "metadata": {},
   "source": [
    "###There is no Factor Analysis of Mixed Data (FAMD) in python, but MCA exists for more than 2 categorical variables\n"
   ]
  },
  {
   "cell_type": "code",
   "execution_count": 13,
   "metadata": {
    "collapsed": false
   },
   "outputs": [
    {
     "name": "stdout",
     "output_type": "stream",
     "text": [
      "[[  3.30631171e-01  -1.55208764e+00   9.21453865e-17 ...,   2.01087135e-16\n",
      "   -8.16698631e-17  -7.99093452e-15]\n",
      " [  3.30631171e-01  -1.55208764e+00   6.17728412e-19 ...,  -1.33774048e-15\n",
      "   -2.86044992e-15  -8.18566327e-15]\n",
      " [  3.53326424e-01  -4.57109941e-02   7.37141117e-17 ...,   1.08080618e-01\n",
      "    7.47379720e-04   4.91804387e-02]\n",
      " ..., \n",
      " [  3.68840724e-01   9.96904367e-01  -1.58100527e-15 ...,  -1.17784613e-01\n",
      "   -2.87202615e-01   1.09901246e-02]\n",
      " [  3.68840724e-01   9.96904367e-01  -1.25740770e-15 ...,   1.17784613e-01\n",
      "    2.87202615e-01  -1.09901246e-02]\n",
      " [  3.68840724e-01   9.96904367e-01  -2.64309873e-15 ...,  -3.88727980e-15\n",
      "   -1.24334662e-16   3.26289020e-15]]\n"
     ]
    }
   ],
   "source": [
    "mca_df = mca.mca(pd.get_dummies(df))\n",
    "print(mca_df.fs_r(1))"
   ]
  },
  {
   "cell_type": "code",
   "execution_count": 18,
   "metadata": {
    "collapsed": false
   },
   "outputs": [
    {
     "name": "stdout",
     "output_type": "stream",
     "text": [
      "[ 0.92781407  0.62299953  0.5625      0.5625      0.5552103   0.53439731\n",
      "  0.51432566  0.44033276  0.41902574  0.25        0.25        0.25        0.25\n",
      "  0.25        0.25        0.25        0.25        0.25        0.25        0.25\n",
      "  0.25        0.25        0.25        0.25        0.25        0.25        0.25\n",
      "  0.25        0.25        0.25        0.25        0.25        0.25        0.25\n",
      "  0.25        0.25        0.25        0.25        0.25        0.25        0.25\n",
      "  0.25        0.25        0.25        0.25        0.25        0.25        0.25\n",
      "  0.25        0.25        0.25        0.25        0.25        0.25        0.25\n",
      "  0.25        0.25        0.25        0.25        0.25        0.25        0.25\n",
      "  0.25        0.25        0.25        0.25        0.25        0.25        0.25\n",
      "  0.25        0.25        0.25        0.25        0.25        0.25        0.25\n",
      "  0.25        0.25        0.25        0.25        0.25        0.25        0.25\n",
      "  0.25        0.25        0.25        0.25        0.25        0.25        0.25\n",
      "  0.25        0.25        0.25        0.25        0.25        0.25        0.25\n",
      "  0.25        0.25        0.25        0.25        0.25        0.25        0.25\n",
      "  0.25        0.25        0.25        0.25        0.25        0.25        0.25\n",
      "  0.25        0.25        0.25        0.25        0.25        0.25        0.25\n",
      "  0.25        0.25        0.25        0.25        0.25        0.25        0.25\n",
      "  0.25        0.25        0.25        0.25        0.25        0.25        0.25\n",
      "  0.25        0.25        0.25        0.25        0.25        0.25        0.25\n",
      "  0.25        0.25        0.25        0.25        0.25        0.25        0.25\n",
      "  0.25        0.25        0.25        0.25        0.25        0.25        0.25\n",
      "  0.25        0.25        0.25        0.25        0.25        0.25        0.25\n",
      "  0.25        0.25        0.25        0.25        0.12252313  0.09049594\n",
      "  0.08510227  0.07388055  0.07100874  0.06884747  0.0625      0.0625\n",
      "  0.0625      0.0625      0.0625      0.0625      0.0625      0.0625\n",
      "  0.0625      0.0625      0.0625      0.0625      0.0625      0.0625\n",
      "  0.0625      0.0625      0.0625      0.0625      0.0625      0.0625\n",
      "  0.0625      0.0625      0.0625      0.0625      0.0625      0.0625\n",
      "  0.0625      0.0625      0.0625      0.0625      0.0625    ]\n"
     ]
    }
   ],
   "source": [
    "print(mca_df.L) "
   ]
  },
  {
   "cell_type": "code",
   "execution_count": null,
   "metadata": {
    "collapsed": false
   },
   "outputs": [],
   "source": []
  },
  {
   "cell_type": "code",
   "execution_count": null,
   "metadata": {
    "collapsed": true
   },
   "outputs": [],
   "source": []
  }
 ],
 "metadata": {
  "kernelspec": {
   "display_name": "Python 2",
   "language": "python",
   "name": "python2"
  },
  "language_info": {
   "codemirror_mode": {
    "name": "ipython",
    "version": 2
   },
   "file_extension": ".py",
   "mimetype": "text/x-python",
   "name": "python",
   "nbconvert_exporter": "python",
   "pygments_lexer": "ipython2",
   "version": "2.7.13"
  }
 },
 "nbformat": 4,
 "nbformat_minor": 0
}
