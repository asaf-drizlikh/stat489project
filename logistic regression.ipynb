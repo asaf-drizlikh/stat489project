{
 "cells": [
  {
   "cell_type": "code",
   "execution_count": 1,
   "metadata": {
    "collapsed": false
   },
   "outputs": [],
   "source": [
    "from sklearn.linear_model import LogisticRegression\n",
    "import pandas as pd\n",
    "import numpy as np\n",
    "from sklearn.metrics import confusion_matrix\n",
    "from sklearn.metrics import classification_report\n",
    "\n",
    "import sklearn.linear_model as sklm \n",
    "import sklearn.decomposition as skdc\n",
    "import sklearn.pipeline as skpl\n",
    "%matplotlib inline"
   ]
  },
  {
   "cell_type": "code",
   "execution_count": 2,
   "metadata": {
    "collapsed": false,
    "scrolled": true
   },
   "outputs": [
    {
     "name": "stdout",
     "output_type": "stream",
     "text": [
      "181\n"
     ]
    }
   ],
   "source": [
    "import Comet_Removal\n",
    "%run Comet_Removal\n",
    "\n",
    "print(len(data))"
   ]
  },
  {
   "cell_type": "code",
   "execution_count": 3,
   "metadata": {
    "collapsed": false
   },
   "outputs": [
    {
     "data": {
      "text/plain": [
       "120"
      ]
     },
     "execution_count": 3,
     "metadata": {},
     "output_type": "execute_result"
    }
   ],
   "source": [
    "\n",
    "msk=np.random.rand(len(data))<0.7\n",
    "training=data[msk]\n",
    "test=data[~msk]\n",
    "len(test)\n",
    "len(training)\n"
   ]
  },
  {
   "cell_type": "code",
   "execution_count": 4,
   "metadata": {
    "collapsed": false
   },
   "outputs": [
    {
     "data": {
      "text/html": [
       "<div>\n",
       "<table border=\"1\" class=\"dataframe\">\n",
       "  <thead>\n",
       "    <tr style=\"text-align: right;\">\n",
       "      <th></th>\n",
       "      <th>﻿Designation</th>\n",
       "      <th>Discovery Date YYYY-MM-DD</th>\n",
       "      <th>H (mag)</th>\n",
       "      <th>MOID (AU)</th>\n",
       "      <th>q (AU)</th>\n",
       "      <th>Q (AU)</th>\n",
       "      <th>period (yr)</th>\n",
       "      <th>i (deg)</th>\n",
       "      <th>PHA</th>\n",
       "      <th>Orbit Class</th>\n",
       "    </tr>\n",
       "  </thead>\n",
       "  <tbody>\n",
       "    <tr>\n",
       "      <th>1</th>\n",
       "      <td>419624 (2010 SO16)</td>\n",
       "      <td>09/17/2010</td>\n",
       "      <td>20.5</td>\n",
       "      <td>0.028</td>\n",
       "      <td>0.93</td>\n",
       "      <td>1.08</td>\n",
       "      <td>1.00</td>\n",
       "      <td>14.52</td>\n",
       "      <td>Y</td>\n",
       "      <td>Apollo</td>\n",
       "    </tr>\n",
       "    <tr>\n",
       "      <th>3</th>\n",
       "      <td>414746 (2010 EH20)</td>\n",
       "      <td>03/06/2010</td>\n",
       "      <td>18.0</td>\n",
       "      <td>0.268</td>\n",
       "      <td>1.25</td>\n",
       "      <td>3.99</td>\n",
       "      <td>4.24</td>\n",
       "      <td>23.89</td>\n",
       "      <td>N</td>\n",
       "      <td>Amor</td>\n",
       "    </tr>\n",
       "    <tr>\n",
       "      <th>4</th>\n",
       "      <td>407324 (2010 OB101)</td>\n",
       "      <td>07/18/2010</td>\n",
       "      <td>20.7</td>\n",
       "      <td>0.111</td>\n",
       "      <td>0.77</td>\n",
       "      <td>2.46</td>\n",
       "      <td>2.06</td>\n",
       "      <td>9.12</td>\n",
       "      <td>N</td>\n",
       "      <td>Apollo</td>\n",
       "    </tr>\n",
       "    <tr>\n",
       "      <th>6</th>\n",
       "      <td>395207 (2010 HQ80)</td>\n",
       "      <td>04/25/2010</td>\n",
       "      <td>19.6</td>\n",
       "      <td>0.007</td>\n",
       "      <td>0.80</td>\n",
       "      <td>2.34</td>\n",
       "      <td>1.96</td>\n",
       "      <td>27.85</td>\n",
       "      <td>Y</td>\n",
       "      <td>Apollo</td>\n",
       "    </tr>\n",
       "    <tr>\n",
       "      <th>8</th>\n",
       "      <td>381989 (2010 HR80)</td>\n",
       "      <td>04/28/2010</td>\n",
       "      <td>19.9</td>\n",
       "      <td>0.104</td>\n",
       "      <td>0.68</td>\n",
       "      <td>2.02</td>\n",
       "      <td>1.56</td>\n",
       "      <td>26.71</td>\n",
       "      <td>N</td>\n",
       "      <td>Apollo</td>\n",
       "    </tr>\n",
       "  </tbody>\n",
       "</table>\n",
       "</div>"
      ],
      "text/plain": [
       "          ﻿Designation Discovery Date YYYY-MM-DD  H (mag)  MOID (AU)  q (AU)  \\\n",
       "1   419624 (2010 SO16)                09/17/2010     20.5      0.028    0.93   \n",
       "3   414746 (2010 EH20)                03/06/2010     18.0      0.268    1.25   \n",
       "4  407324 (2010 OB101)                07/18/2010     20.7      0.111    0.77   \n",
       "6   395207 (2010 HQ80)                04/25/2010     19.6      0.007    0.80   \n",
       "8   381989 (2010 HR80)                04/28/2010     19.9      0.104    0.68   \n",
       "\n",
       "   Q (AU)  period (yr)  i (deg) PHA Orbit Class  \n",
       "1    1.08         1.00    14.52   Y      Apollo  \n",
       "3    3.99         4.24    23.89   N        Amor  \n",
       "4    2.46         2.06     9.12   N      Apollo  \n",
       "6    2.34         1.96    27.85   Y      Apollo  \n",
       "8    2.02         1.56    26.71   N      Apollo  "
      ]
     },
     "execution_count": 4,
     "metadata": {},
     "output_type": "execute_result"
    }
   ],
   "source": [
    "training.head()"
   ]
  },
  {
   "cell_type": "code",
   "execution_count": 5,
   "metadata": {
    "collapsed": false
   },
   "outputs": [],
   "source": [
    "#print(pd.get_dummies(training['Designation']).head(1))\n",
    "#training['Designation_dummies'] = pd.get_dummies(training['Designation']).iloc[:,1]"
   ]
  },
  {
   "cell_type": "code",
   "execution_count": 6,
   "metadata": {
    "collapsed": false
   },
   "outputs": [
    {
     "data": {
      "text/html": [
       "<div>\n",
       "<table border=\"1\" class=\"dataframe\">\n",
       "  <thead>\n",
       "    <tr style=\"text-align: right;\">\n",
       "      <th></th>\n",
       "      <th>H (mag)</th>\n",
       "      <th>MOID (AU)</th>\n",
       "      <th>q (AU)</th>\n",
       "      <th>Q (AU)</th>\n",
       "      <th>period (yr)</th>\n",
       "    </tr>\n",
       "  </thead>\n",
       "  <tbody>\n",
       "    <tr>\n",
       "      <th>1</th>\n",
       "      <td>20.5</td>\n",
       "      <td>0.028</td>\n",
       "      <td>0.93</td>\n",
       "      <td>1.08</td>\n",
       "      <td>1.00</td>\n",
       "    </tr>\n",
       "    <tr>\n",
       "      <th>3</th>\n",
       "      <td>18.0</td>\n",
       "      <td>0.268</td>\n",
       "      <td>1.25</td>\n",
       "      <td>3.99</td>\n",
       "      <td>4.24</td>\n",
       "    </tr>\n",
       "    <tr>\n",
       "      <th>4</th>\n",
       "      <td>20.7</td>\n",
       "      <td>0.111</td>\n",
       "      <td>0.77</td>\n",
       "      <td>2.46</td>\n",
       "      <td>2.06</td>\n",
       "    </tr>\n",
       "    <tr>\n",
       "      <th>6</th>\n",
       "      <td>19.6</td>\n",
       "      <td>0.007</td>\n",
       "      <td>0.80</td>\n",
       "      <td>2.34</td>\n",
       "      <td>1.96</td>\n",
       "    </tr>\n",
       "    <tr>\n",
       "      <th>8</th>\n",
       "      <td>19.9</td>\n",
       "      <td>0.104</td>\n",
       "      <td>0.68</td>\n",
       "      <td>2.02</td>\n",
       "      <td>1.56</td>\n",
       "    </tr>\n",
       "  </tbody>\n",
       "</table>\n",
       "</div>"
      ],
      "text/plain": [
       "   H (mag)  MOID (AU)  q (AU)  Q (AU)  period (yr)\n",
       "1     20.5      0.028    0.93    1.08         1.00\n",
       "3     18.0      0.268    1.25    3.99         4.24\n",
       "4     20.7      0.111    0.77    2.46         2.06\n",
       "6     19.6      0.007    0.80    2.34         1.96\n",
       "8     19.9      0.104    0.68    2.02         1.56"
      ]
     },
     "execution_count": 6,
     "metadata": {},
     "output_type": "execute_result"
    }
   ],
   "source": [
    "y=training[\"PHA\"]\n",
    "x=training.iloc[:,2:7]\n",
    "#x=train[:,\"Designation\":\"PHA\"]\n",
    "#x=train[\"Designation\",\"Discovery Date YYYY-MM-DD\",\"H (mag)\"]\n",
    "x.head()\n",
    "\n"
   ]
  },
  {
   "cell_type": "code",
   "execution_count": 7,
   "metadata": {
    "collapsed": false
   },
   "outputs": [
    {
     "data": {
      "text/plain": [
       "LogisticRegression(C=1.0, class_weight=None, dual=False, fit_intercept=True,\n",
       "          intercept_scaling=1, max_iter=100, multi_class='ovr', n_jobs=1,\n",
       "          penalty='l2', random_state=None, solver='liblinear', tol=0.0001,\n",
       "          verbose=0, warm_start=False)"
      ]
     },
     "execution_count": 7,
     "metadata": {},
     "output_type": "execute_result"
    }
   ],
   "source": [
    "model = LogisticRegression()\n",
    "model.fit(x,y)\n",
    "model"
   ]
  },
  {
   "cell_type": "code",
   "execution_count": 8,
   "metadata": {
    "collapsed": false
   },
   "outputs": [
    {
     "data": {
      "text/plain": [
       "array([[ 0.01399233, -1.61918404, -0.17378038, -0.42217922, -0.16409325]])"
      ]
     },
     "execution_count": 8,
     "metadata": {},
     "output_type": "execute_result"
    }
   ],
   "source": [
    "model.coef_"
   ]
  },
  {
   "cell_type": "code",
   "execution_count": 9,
   "metadata": {
    "collapsed": false
   },
   "outputs": [
    {
     "data": {
      "text/plain": [
       "array([ 0.03630652])"
      ]
     },
     "execution_count": 9,
     "metadata": {},
     "output_type": "execute_result"
    }
   ],
   "source": [
    "model.intercept_"
   ]
  },
  {
   "cell_type": "code",
   "execution_count": 10,
   "metadata": {
    "collapsed": false
   },
   "outputs": [],
   "source": [
    "newX=test.iloc[:,2:7]"
   ]
  },
  {
   "cell_type": "code",
   "execution_count": 11,
   "metadata": {
    "collapsed": false
   },
   "outputs": [
    {
     "data": {
      "text/plain": [
       "array(['N', 'N', 'N', 'N', 'N', 'N', 'N', 'N', 'N', 'N', 'N', 'N', 'N',\n",
       "       'N', 'N', 'N', 'N', 'N', 'N', 'N', 'N', 'N', 'N', 'N', 'N', 'N',\n",
       "       'N', 'N', 'N', 'N', 'N', 'N', 'N', 'N', 'N', 'N', 'N', 'N', 'N',\n",
       "       'N', 'N', 'N', 'N', 'N', 'N', 'N', 'N', 'N', 'N', 'N', 'N', 'N',\n",
       "       'N', 'N', 'N', 'N', 'N', 'N', 'N', 'N', 'N'], dtype=object)"
      ]
     },
     "execution_count": 11,
     "metadata": {},
     "output_type": "execute_result"
    }
   ],
   "source": [
    "model.predict(newX)"
   ]
  },
  {
   "cell_type": "code",
   "execution_count": 12,
   "metadata": {
    "collapsed": false
   },
   "outputs": [
    {
     "name": "stdout",
     "output_type": "stream",
     "text": [
      "['N' 'Y']\n",
      "[[ 0.91336199  0.08663801]\n",
      " [ 0.7964289   0.2035711 ]\n",
      " [ 0.60703286  0.39296714]\n",
      " [ 0.79000204  0.20999796]\n",
      " [ 0.80860722  0.19139278]\n",
      " [ 0.68826528  0.31173472]\n",
      " [ 0.86726754  0.13273246]\n",
      " [ 0.88069133  0.11930867]\n",
      " [ 0.92795979  0.07204021]\n",
      " [ 0.90272446  0.09727554]\n",
      " [ 0.93595523  0.06404477]\n",
      " [ 0.91543053  0.08456947]\n",
      " [ 0.97223357  0.02776643]\n",
      " [ 0.95107704  0.04892296]\n",
      " [ 0.72568984  0.27431016]\n",
      " [ 0.92071518  0.07928482]\n",
      " [ 0.90994518  0.09005482]\n",
      " [ 0.70567497  0.29432503]\n",
      " [ 0.86127687  0.13872313]\n",
      " [ 0.95572385  0.04427615]\n",
      " [ 0.76245196  0.23754804]\n",
      " [ 0.76805453  0.23194547]\n",
      " [ 0.86539943  0.13460057]\n",
      " [ 0.93536383  0.06463617]\n",
      " [ 0.65646119  0.34353881]\n",
      " [ 0.91274636  0.08725364]\n",
      " [ 0.92848602  0.07151398]\n",
      " [ 0.96017243  0.03982757]\n",
      " [ 0.76743013  0.23256987]\n",
      " [ 0.73813324  0.26186676]\n",
      " [ 0.85281004  0.14718996]\n",
      " [ 0.80830745  0.19169255]\n",
      " [ 0.94076466  0.05923534]\n",
      " [ 0.94807423  0.05192577]\n",
      " [ 0.82815233  0.17184767]\n",
      " [ 0.64235616  0.35764384]\n",
      " [ 0.62562988  0.37437012]\n",
      " [ 0.85921266  0.14078734]\n",
      " [ 0.81898894  0.18101106]\n",
      " [ 0.85093631  0.14906369]\n",
      " [ 0.90302681  0.09697319]\n",
      " [ 0.96054971  0.03945029]\n",
      " [ 0.92145066  0.07854934]\n",
      " [ 0.75042638  0.24957362]\n",
      " [ 0.90336429  0.09663571]\n",
      " [ 0.90396358  0.09603642]\n",
      " [ 0.69611163  0.30388837]\n",
      " [ 0.70759841  0.29240159]\n",
      " [ 0.94796881  0.05203119]\n",
      " [ 0.75013975  0.24986025]\n",
      " [ 0.86366839  0.13633161]\n",
      " [ 0.63778493  0.36221507]\n",
      " [ 0.94329943  0.05670057]\n",
      " [ 0.84922486  0.15077514]\n",
      " [ 0.67547872  0.32452128]\n",
      " [ 0.91864843  0.08135157]\n",
      " [ 0.66405638  0.33594362]\n",
      " [ 0.95560946  0.04439054]\n",
      " [ 0.94527769  0.05472231]\n",
      " [ 0.62809238  0.37190762]\n",
      " [ 0.95445342  0.04554658]]\n"
     ]
    }
   ],
   "source": [
    "print(model.classes_)\n",
    "print(model.predict_proba(newX))\n",
    "k=model.predict_proba(newX)"
   ]
  },
  {
   "cell_type": "code",
   "execution_count": 13,
   "metadata": {
    "collapsed": false
   },
   "outputs": [
    {
     "data": {
      "text/plain": [
       "array(['N', 'N', 'N', 'N', 'N', 'N', 'N', 'N', 'N', 'N', 'N', 'N', 'N',\n",
       "       'N', 'N', 'N', 'N', 'N', 'N', 'N', 'N', 'N', 'N', 'N', 'N', 'N',\n",
       "       'N', 'N', 'N', 'N', 'N', 'N', 'N', 'N', 'N', 'N', 'N', 'N', 'N',\n",
       "       'N', 'N', 'N', 'N', 'N', 'N', 'N', 'N', 'N', 'N', 'N', 'N', 'N',\n",
       "       'N', 'N', 'N', 'N', 'N', 'N', 'N', 'N', 'N'], dtype=object)"
      ]
     },
     "execution_count": 13,
     "metadata": {},
     "output_type": "execute_result"
    }
   ],
   "source": [
    "k=pd.DataFrame(k)\n",
    "indx = k.idxmax(axis=1)\n",
    "pred_class=model.classes_[indx]\n",
    "pred_class"
   ]
  },
  {
   "cell_type": "code",
   "execution_count": 14,
   "metadata": {
    "collapsed": false
   },
   "outputs": [
    {
     "data": {
      "text/plain": [
       "0    Y\n",
       "2    N\n",
       "5    Y\n",
       "7    Y\n",
       "9    N\n",
       "Name: PHA, dtype: object"
      ]
     },
     "execution_count": 14,
     "metadata": {},
     "output_type": "execute_result"
    }
   ],
   "source": [
    "newy=test[\"PHA\"]\n",
    "newy.head()\n",
    "\n"
   ]
  },
  {
   "cell_type": "code",
   "execution_count": 15,
   "metadata": {
    "collapsed": false
   },
   "outputs": [],
   "source": [
    "#newy==pred_class"
   ]
  },
  {
   "cell_type": "code",
   "execution_count": 16,
   "metadata": {
    "collapsed": false
   },
   "outputs": [
    {
     "data": {
      "text/plain": [
       "array([[50,  0],\n",
       "       [11,  0]])"
      ]
     },
     "execution_count": 16,
     "metadata": {},
     "output_type": "execute_result"
    }
   ],
   "source": [
    "con=confusion_matrix(newy,pred_class)\n",
    "con"
   ]
  },
  {
   "cell_type": "code",
   "execution_count": 17,
   "metadata": {
    "collapsed": false
   },
   "outputs": [
    {
     "name": "stdout",
     "output_type": "stream",
     "text": [
      "[61  0]\n",
      "61\n"
     ]
    }
   ],
   "source": [
    "print(sum(con))\n",
    "print(sum(sum(con)))"
   ]
  },
  {
   "cell_type": "code",
   "execution_count": 18,
   "metadata": {
    "collapsed": false
   },
   "outputs": [
    {
     "name": "stdout",
     "output_type": "stream",
     "text": [
      "             precision    recall  f1-score   support\n",
      "\n",
      "          N       0.82      1.00      0.90        50\n",
      "          Y       0.00      0.00      0.00        11\n",
      "\n",
      "avg / total       0.67      0.82      0.74        61\n",
      "\n"
     ]
    },
    {
     "name": "stderr",
     "output_type": "stream",
     "text": [
      "C:\\ANACONDA3\\lib\\site-packages\\sklearn\\metrics\\classification.py:1074: UndefinedMetricWarning: Precision and F-score are ill-defined and being set to 0.0 in labels with no predicted samples.\n",
      "  'precision', 'predicted', average, warn_for)\n"
     ]
    }
   ],
   "source": [
    "print(classification_report(newy,pred_class))"
   ]
  }
 ],
 "metadata": {
  "anaconda-cloud": {},
  "kernelspec": {
   "display_name": "Python [default]",
   "language": "python",
   "name": "python3"
  },
  "language_info": {
   "codemirror_mode": {
    "name": "ipython",
    "version": 3
   },
   "file_extension": ".py",
   "mimetype": "text/x-python",
   "name": "python",
   "nbconvert_exporter": "python",
   "pygments_lexer": "ipython3",
   "version": "3.5.2"
  }
 },
 "nbformat": 4,
 "nbformat_minor": 1
}
