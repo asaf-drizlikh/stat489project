{
 "cells": [
  {
   "cell_type": "code",
   "execution_count": 1,
   "metadata": {
    "collapsed": false
   },
   "outputs": [],
   "source": [
    "from sklearn.linear_model import LogisticRegression\n",
    "import pandas as pd\n",
    "import numpy as np\n",
    "from sklearn.metrics import confusion_matrix\n",
    "from sklearn.metrics import classification_report\n",
    "import seaborn as sb\n",
    "import sklearn.linear_model as sklm \n",
    "import sklearn.decomposition as skdc\n",
    "import sklearn.pipeline as skpl\n",
    "%matplotlib inline"
   ]
  },
  {
   "cell_type": "code",
   "execution_count": 2,
   "metadata": {
    "collapsed": false,
    "scrolled": true
   },
   "outputs": [
    {
     "name": "stdout",
     "output_type": "stream",
     "text": [
      "181\n"
     ]
    },
    {
     "data": {
      "text/html": [
       "<div>\n",
       "<table border=\"1\" class=\"dataframe\">\n",
       "  <thead>\n",
       "    <tr style=\"text-align: right;\">\n",
       "      <th></th>\n",
       "      <th>﻿Designation</th>\n",
       "      <th>Discovery Date YYYY-MM-DD</th>\n",
       "      <th>H (mag)</th>\n",
       "      <th>MOID (AU)</th>\n",
       "      <th>q (AU)</th>\n",
       "      <th>Q (AU)</th>\n",
       "      <th>period (yr)</th>\n",
       "      <th>i (deg)</th>\n",
       "      <th>PHA</th>\n",
       "      <th>Orbit Class</th>\n",
       "    </tr>\n",
       "  </thead>\n",
       "  <tbody>\n",
       "    <tr>\n",
       "      <th>0</th>\n",
       "      <td>419880 (2011 AH37)</td>\n",
       "      <td>01/07/2011</td>\n",
       "      <td>19.7</td>\n",
       "      <td>0.035</td>\n",
       "      <td>0.84</td>\n",
       "      <td>4.26</td>\n",
       "      <td>4.06</td>\n",
       "      <td>9.65</td>\n",
       "      <td>Y</td>\n",
       "      <td>Apollo</td>\n",
       "    </tr>\n",
       "    <tr>\n",
       "      <th>1</th>\n",
       "      <td>419624 (2010 SO16)</td>\n",
       "      <td>09/17/2010</td>\n",
       "      <td>20.5</td>\n",
       "      <td>0.028</td>\n",
       "      <td>0.93</td>\n",
       "      <td>1.08</td>\n",
       "      <td>1.00</td>\n",
       "      <td>14.52</td>\n",
       "      <td>Y</td>\n",
       "      <td>Apollo</td>\n",
       "    </tr>\n",
       "    <tr>\n",
       "      <th>2</th>\n",
       "      <td>414772 (2010 OC103)</td>\n",
       "      <td>07/28/2010</td>\n",
       "      <td>19.0</td>\n",
       "      <td>0.333</td>\n",
       "      <td>0.39</td>\n",
       "      <td>2.00</td>\n",
       "      <td>1.31</td>\n",
       "      <td>23.11</td>\n",
       "      <td>N</td>\n",
       "      <td>Apollo</td>\n",
       "    </tr>\n",
       "    <tr>\n",
       "      <th>3</th>\n",
       "      <td>414746 (2010 EH20)</td>\n",
       "      <td>03/06/2010</td>\n",
       "      <td>18.0</td>\n",
       "      <td>0.268</td>\n",
       "      <td>1.25</td>\n",
       "      <td>3.99</td>\n",
       "      <td>4.24</td>\n",
       "      <td>23.89</td>\n",
       "      <td>N</td>\n",
       "      <td>Amor</td>\n",
       "    </tr>\n",
       "    <tr>\n",
       "      <th>4</th>\n",
       "      <td>407324 (2010 OB101)</td>\n",
       "      <td>07/18/2010</td>\n",
       "      <td>20.7</td>\n",
       "      <td>0.111</td>\n",
       "      <td>0.77</td>\n",
       "      <td>2.46</td>\n",
       "      <td>2.06</td>\n",
       "      <td>9.12</td>\n",
       "      <td>N</td>\n",
       "      <td>Apollo</td>\n",
       "    </tr>\n",
       "  </tbody>\n",
       "</table>\n",
       "</div>"
      ],
      "text/plain": [
       "          ﻿Designation Discovery Date YYYY-MM-DD  H (mag)  MOID (AU)  q (AU)  \\\n",
       "0   419880 (2011 AH37)                01/07/2011     19.7      0.035    0.84   \n",
       "1   419624 (2010 SO16)                09/17/2010     20.5      0.028    0.93   \n",
       "2  414772 (2010 OC103)                07/28/2010     19.0      0.333    0.39   \n",
       "3   414746 (2010 EH20)                03/06/2010     18.0      0.268    1.25   \n",
       "4  407324 (2010 OB101)                07/18/2010     20.7      0.111    0.77   \n",
       "\n",
       "   Q (AU)  period (yr)  i (deg) PHA Orbit Class  \n",
       "0    4.26         4.06     9.65   Y      Apollo  \n",
       "1    1.08         1.00    14.52   Y      Apollo  \n",
       "2    2.00         1.31    23.11   N      Apollo  \n",
       "3    3.99         4.24    23.89   N        Amor  \n",
       "4    2.46         2.06     9.12   N      Apollo  "
      ]
     },
     "execution_count": 2,
     "metadata": {},
     "output_type": "execute_result"
    }
   ],
   "source": [
    "import Comet_Removal\n",
    "%run Comet_Removal\n",
    "\n",
    "print(len(data))\n",
    "data.head()"
   ]
  },
  {
   "cell_type": "code",
   "execution_count": 3,
   "metadata": {
    "collapsed": true
   },
   "outputs": [],
   "source": [
    "#standardization\n",
    "def standardization(x): #Define function to standardize the data, since all variables are not in the same units\n",
    "    xmean = np.mean(x) ##calculate mean\n",
    "    sd = np.std(x) ##calculate standard deviation \n",
    "    x_z = (x - xmean) / sd ##calculate standardized value to return\n",
    "    return(x_z)"
   ]
  },
  {
   "cell_type": "code",
   "execution_count": 4,
   "metadata": {
    "collapsed": false
   },
   "outputs": [
    {
     "data": {
      "text/html": [
       "<div>\n",
       "<table border=\"1\" class=\"dataframe\">\n",
       "  <thead>\n",
       "    <tr style=\"text-align: right;\">\n",
       "      <th></th>\n",
       "      <th>Designation</th>\n",
       "      <th>Discovery Date YYYY-MM-DD</th>\n",
       "      <th>H (mag)</th>\n",
       "      <th>MOID (AU)</th>\n",
       "      <th>q (AU)</th>\n",
       "      <th>Q (AU)</th>\n",
       "      <th>period (yr)</th>\n",
       "      <th>i (deg)</th>\n",
       "      <th>PHA</th>\n",
       "      <th>Orbit Class</th>\n",
       "    </tr>\n",
       "  </thead>\n",
       "  <tbody>\n",
       "    <tr>\n",
       "      <th>0</th>\n",
       "      <td>419880 (2011 AH37)</td>\n",
       "      <td>01/07/2011</td>\n",
       "      <td>19.7</td>\n",
       "      <td>0.035</td>\n",
       "      <td>0.84</td>\n",
       "      <td>4.26</td>\n",
       "      <td>4.06</td>\n",
       "      <td>9.65</td>\n",
       "      <td>Y</td>\n",
       "      <td>Apollo</td>\n",
       "    </tr>\n",
       "    <tr>\n",
       "      <th>1</th>\n",
       "      <td>419624 (2010 SO16)</td>\n",
       "      <td>09/17/2010</td>\n",
       "      <td>20.5</td>\n",
       "      <td>0.028</td>\n",
       "      <td>0.93</td>\n",
       "      <td>1.08</td>\n",
       "      <td>1.00</td>\n",
       "      <td>14.52</td>\n",
       "      <td>Y</td>\n",
       "      <td>Apollo</td>\n",
       "    </tr>\n",
       "    <tr>\n",
       "      <th>2</th>\n",
       "      <td>414772 (2010 OC103)</td>\n",
       "      <td>07/28/2010</td>\n",
       "      <td>19.0</td>\n",
       "      <td>0.333</td>\n",
       "      <td>0.39</td>\n",
       "      <td>2.00</td>\n",
       "      <td>1.31</td>\n",
       "      <td>23.11</td>\n",
       "      <td>N</td>\n",
       "      <td>Apollo</td>\n",
       "    </tr>\n",
       "    <tr>\n",
       "      <th>3</th>\n",
       "      <td>414746 (2010 EH20)</td>\n",
       "      <td>03/06/2010</td>\n",
       "      <td>18.0</td>\n",
       "      <td>0.268</td>\n",
       "      <td>1.25</td>\n",
       "      <td>3.99</td>\n",
       "      <td>4.24</td>\n",
       "      <td>23.89</td>\n",
       "      <td>N</td>\n",
       "      <td>Amor</td>\n",
       "    </tr>\n",
       "    <tr>\n",
       "      <th>4</th>\n",
       "      <td>407324 (2010 OB101)</td>\n",
       "      <td>07/18/2010</td>\n",
       "      <td>20.7</td>\n",
       "      <td>0.111</td>\n",
       "      <td>0.77</td>\n",
       "      <td>2.46</td>\n",
       "      <td>2.06</td>\n",
       "      <td>9.12</td>\n",
       "      <td>N</td>\n",
       "      <td>Apollo</td>\n",
       "    </tr>\n",
       "  </tbody>\n",
       "</table>\n",
       "</div>"
      ],
      "text/plain": [
       "           Designation Discovery Date YYYY-MM-DD  H (mag)  MOID (AU)  q (AU)  \\\n",
       "0   419880 (2011 AH37)                01/07/2011     19.7      0.035    0.84   \n",
       "1   419624 (2010 SO16)                09/17/2010     20.5      0.028    0.93   \n",
       "2  414772 (2010 OC103)                07/28/2010     19.0      0.333    0.39   \n",
       "3   414746 (2010 EH20)                03/06/2010     18.0      0.268    1.25   \n",
       "4  407324 (2010 OB101)                07/18/2010     20.7      0.111    0.77   \n",
       "\n",
       "   Q (AU)  period (yr)  i (deg) PHA Orbit Class  \n",
       "0    4.26         4.06     9.65   Y      Apollo  \n",
       "1    1.08         1.00    14.52   Y      Apollo  \n",
       "2    2.00         1.31    23.11   N      Apollo  \n",
       "3    3.99         4.24    23.89   N        Amor  \n",
       "4    2.46         2.06     9.12   N      Apollo  "
      ]
     },
     "execution_count": 4,
     "metadata": {},
     "output_type": "execute_result"
    }
   ],
   "source": [
    "#data_temp=data.drop(\"Designation\")\n",
    "data.columns=['Designation', 'Discovery Date YYYY-MM-DD', 'H (mag)',\n",
    "       'MOID (AU)', 'q (AU)', 'Q (AU)', 'period (yr)', 'i (deg)', 'PHA','Orbit Class']\n",
    "#data_temp=data.drop(\"Discovery Date YYYY-MM-DD\")\n",
    "#data = data.drop(['Designation','Discovery Date YYYY-MM-DD','PHA','Orbit Class'], 1).apply(standardization,broadcast = True) \n",
    "\n",
    "data.head()\n",
    "\n"
   ]
  },
  {
   "cell_type": "code",
   "execution_count": 5,
   "metadata": {
    "collapsed": false
   },
   "outputs": [
    {
     "name": "stdout",
     "output_type": "stream",
     "text": [
      "   Amor  Apollo  Aten\n",
      "0   0.0     1.0   0.0\n",
      "1   0.0     1.0   0.0\n",
      "2   0.0     1.0   0.0\n",
      "3   1.0     0.0   0.0\n",
      "4   0.0     1.0   0.0\n"
     ]
    }
   ],
   "source": [
    "print(pd.get_dummies(data['Orbit Class']).head(5))\n",
    "data['OrbitClass_dummies'] = pd.get_dummies(data['Orbit Class']).iloc[:,1]\n",
    "\n",
    "#print(pd.get_dummies(data['Orbit Class'].head(1), dummy_na=True)"
   ]
  },
  {
   "cell_type": "code",
   "execution_count": 6,
   "metadata": {
    "collapsed": false
   },
   "outputs": [
    {
     "name": "stdout",
     "output_type": "stream",
     "text": [
      "     N    Y\n",
      "0  0.0  1.0\n",
      "1  0.0  1.0\n",
      "2  1.0  0.0\n",
      "3  1.0  0.0\n",
      "4  1.0  0.0\n"
     ]
    }
   ],
   "source": [
    "print(pd.get_dummies(data['PHA']).head(5))\n",
    "data['PHA_dummies'] = pd.get_dummies(data['PHA']).iloc[:,1]"
   ]
  },
  {
   "cell_type": "code",
   "execution_count": 7,
   "metadata": {
    "collapsed": false
   },
   "outputs": [
    {
     "data": {
      "text/html": [
       "<div>\n",
       "<table border=\"1\" class=\"dataframe\">\n",
       "  <thead>\n",
       "    <tr style=\"text-align: right;\">\n",
       "      <th></th>\n",
       "      <th>H (mag)</th>\n",
       "      <th>MOID (AU)</th>\n",
       "      <th>q (AU)</th>\n",
       "      <th>Q (AU)</th>\n",
       "      <th>period (yr)</th>\n",
       "      <th>i (deg)</th>\n",
       "      <th>OrbitClass_dummies</th>\n",
       "      <th>PHA_dummies</th>\n",
       "    </tr>\n",
       "  </thead>\n",
       "  <tbody>\n",
       "    <tr>\n",
       "      <th>H (mag)</th>\n",
       "      <td>1.000000</td>\n",
       "      <td>-0.348351</td>\n",
       "      <td>0.066357</td>\n",
       "      <td>-0.122676</td>\n",
       "      <td>-0.061092</td>\n",
       "      <td>-0.404660</td>\n",
       "      <td>0.171101</td>\n",
       "      <td>0.080128</td>\n",
       "    </tr>\n",
       "    <tr>\n",
       "      <th>MOID (AU)</th>\n",
       "      <td>-0.348351</td>\n",
       "      <td>1.000000</td>\n",
       "      <td>0.000562</td>\n",
       "      <td>0.691628</td>\n",
       "      <td>0.684569</td>\n",
       "      <td>0.513562</td>\n",
       "      <td>-0.170570</td>\n",
       "      <td>-0.368525</td>\n",
       "    </tr>\n",
       "    <tr>\n",
       "      <th>q (AU)</th>\n",
       "      <td>0.066357</td>\n",
       "      <td>0.000562</td>\n",
       "      <td>1.000000</td>\n",
       "      <td>0.144295</td>\n",
       "      <td>0.159065</td>\n",
       "      <td>0.037985</td>\n",
       "      <td>-0.485099</td>\n",
       "      <td>-0.078787</td>\n",
       "    </tr>\n",
       "    <tr>\n",
       "      <th>Q (AU)</th>\n",
       "      <td>-0.122676</td>\n",
       "      <td>0.691628</td>\n",
       "      <td>0.144295</td>\n",
       "      <td>1.000000</td>\n",
       "      <td>0.971313</td>\n",
       "      <td>0.423804</td>\n",
       "      <td>-0.062345</td>\n",
       "      <td>-0.128835</td>\n",
       "    </tr>\n",
       "    <tr>\n",
       "      <th>period (yr)</th>\n",
       "      <td>-0.061092</td>\n",
       "      <td>0.684569</td>\n",
       "      <td>0.159065</td>\n",
       "      <td>0.971313</td>\n",
       "      <td>1.000000</td>\n",
       "      <td>0.417418</td>\n",
       "      <td>-0.096547</td>\n",
       "      <td>-0.078338</td>\n",
       "    </tr>\n",
       "  </tbody>\n",
       "</table>\n",
       "</div>"
      ],
      "text/plain": [
       "              H (mag)  MOID (AU)    q (AU)    Q (AU)  period (yr)   i (deg)  \\\n",
       "H (mag)      1.000000  -0.348351  0.066357 -0.122676    -0.061092 -0.404660   \n",
       "MOID (AU)   -0.348351   1.000000  0.000562  0.691628     0.684569  0.513562   \n",
       "q (AU)       0.066357   0.000562  1.000000  0.144295     0.159065  0.037985   \n",
       "Q (AU)      -0.122676   0.691628  0.144295  1.000000     0.971313  0.423804   \n",
       "period (yr) -0.061092   0.684569  0.159065  0.971313     1.000000  0.417418   \n",
       "\n",
       "             OrbitClass_dummies  PHA_dummies  \n",
       "H (mag)                0.171101     0.080128  \n",
       "MOID (AU)             -0.170570    -0.368525  \n",
       "q (AU)                -0.485099    -0.078787  \n",
       "Q (AU)                -0.062345    -0.128835  \n",
       "period (yr)           -0.096547    -0.078338  "
      ]
     },
     "execution_count": 7,
     "metadata": {},
     "output_type": "execute_result"
    }
   ],
   "source": [
    "datacorr = data.corr() #correlation matrix, showing correlation between each variable and all the others\n",
    "data.corr().head()"
   ]
  },
  {
   "cell_type": "code",
   "execution_count": 8,
   "metadata": {
    "collapsed": false
   },
   "outputs": [
    {
     "data": {
      "text/plain": [
       "<matplotlib.axes._subplots.AxesSubplot at 0x2a68fc241d0>"
      ]
     },
     "execution_count": 8,
     "metadata": {},
     "output_type": "execute_result"
    },
    {
     "data": {
      "image/png": "[encoded data removed]",
      "text/plain": [
       "<matplotlib.figure.Figure at 0x2a6946ce240>"
      ]
     },
     "metadata": {},
     "output_type": "display_data"
    }
   ],
   "source": [
    "sb.heatmap(datacorr, cmap = 'bwr') #heatmap of correlation matrix\n",
    "###darker colors represent higher correlation, several pairs of variables are highly correlated."
   ]
  },
  {
   "cell_type": "code",
   "execution_count": null,
   "metadata": {
    "collapsed": true
   },
   "outputs": [],
   "source": []
  },
  {
   "cell_type": "code",
   "execution_count": 9,
   "metadata": {
    "collapsed": false
   },
   "outputs": [
    {
     "data": {
      "text/plain": [
       "127"
      ]
     },
     "execution_count": 9,
     "metadata": {},
     "output_type": "execute_result"
    }
   ],
   "source": [
    "\n",
    "msk=np.random.rand(len(data))<0.7\n",
    "training=data[msk]\n",
    "test=data[~msk]\n",
    "len(test)\n",
    "len(training)\n"
   ]
  },
  {
   "cell_type": "code",
   "execution_count": 10,
   "metadata": {
    "collapsed": false
   },
   "outputs": [
    {
     "data": {
      "text/html": [
       "<div>\n",
       "<table border=\"1\" class=\"dataframe\">\n",
       "  <thead>\n",
       "    <tr style=\"text-align: right;\">\n",
       "      <th></th>\n",
       "      <th>Designation</th>\n",
       "      <th>Discovery Date YYYY-MM-DD</th>\n",
       "      <th>H (mag)</th>\n",
       "      <th>MOID (AU)</th>\n",
       "      <th>q (AU)</th>\n",
       "      <th>Q (AU)</th>\n",
       "      <th>period (yr)</th>\n",
       "      <th>i (deg)</th>\n",
       "      <th>PHA</th>\n",
       "      <th>Orbit Class</th>\n",
       "      <th>OrbitClass_dummies</th>\n",
       "      <th>PHA_dummies</th>\n",
       "    </tr>\n",
       "  </thead>\n",
       "  <tbody>\n",
       "    <tr>\n",
       "      <th>1</th>\n",
       "      <td>419624 (2010 SO16)</td>\n",
       "      <td>09/17/2010</td>\n",
       "      <td>20.5</td>\n",
       "      <td>0.028</td>\n",
       "      <td>0.93</td>\n",
       "      <td>1.08</td>\n",
       "      <td>1.00</td>\n",
       "      <td>14.52</td>\n",
       "      <td>Y</td>\n",
       "      <td>Apollo</td>\n",
       "      <td>1.0</td>\n",
       "      <td>1.0</td>\n",
       "    </tr>\n",
       "    <tr>\n",
       "      <th>2</th>\n",
       "      <td>414772 (2010 OC103)</td>\n",
       "      <td>07/28/2010</td>\n",
       "      <td>19.0</td>\n",
       "      <td>0.333</td>\n",
       "      <td>0.39</td>\n",
       "      <td>2.00</td>\n",
       "      <td>1.31</td>\n",
       "      <td>23.11</td>\n",
       "      <td>N</td>\n",
       "      <td>Apollo</td>\n",
       "      <td>1.0</td>\n",
       "      <td>0.0</td>\n",
       "    </tr>\n",
       "    <tr>\n",
       "      <th>6</th>\n",
       "      <td>395207 (2010 HQ80)</td>\n",
       "      <td>04/25/2010</td>\n",
       "      <td>19.6</td>\n",
       "      <td>0.007</td>\n",
       "      <td>0.80</td>\n",
       "      <td>2.34</td>\n",
       "      <td>1.96</td>\n",
       "      <td>27.85</td>\n",
       "      <td>Y</td>\n",
       "      <td>Apollo</td>\n",
       "      <td>1.0</td>\n",
       "      <td>1.0</td>\n",
       "    </tr>\n",
       "    <tr>\n",
       "      <th>7</th>\n",
       "      <td>386847 (2010 LR33)</td>\n",
       "      <td>06/06/2010</td>\n",
       "      <td>18.0</td>\n",
       "      <td>0.029</td>\n",
       "      <td>0.91</td>\n",
       "      <td>2.48</td>\n",
       "      <td>2.20</td>\n",
       "      <td>5.84</td>\n",
       "      <td>Y</td>\n",
       "      <td>Apollo</td>\n",
       "      <td>1.0</td>\n",
       "      <td>1.0</td>\n",
       "    </tr>\n",
       "    <tr>\n",
       "      <th>8</th>\n",
       "      <td>381989 (2010 HR80)</td>\n",
       "      <td>04/28/2010</td>\n",
       "      <td>19.9</td>\n",
       "      <td>0.104</td>\n",
       "      <td>0.68</td>\n",
       "      <td>2.02</td>\n",
       "      <td>1.56</td>\n",
       "      <td>26.71</td>\n",
       "      <td>N</td>\n",
       "      <td>Apollo</td>\n",
       "      <td>1.0</td>\n",
       "      <td>0.0</td>\n",
       "    </tr>\n",
       "  </tbody>\n",
       "</table>\n",
       "</div>"
      ],
      "text/plain": [
       "           Designation Discovery Date YYYY-MM-DD  H (mag)  MOID (AU)  q (AU)  \\\n",
       "1   419624 (2010 SO16)                09/17/2010     20.5      0.028    0.93   \n",
       "2  414772 (2010 OC103)                07/28/2010     19.0      0.333    0.39   \n",
       "6   395207 (2010 HQ80)                04/25/2010     19.6      0.007    0.80   \n",
       "7   386847 (2010 LR33)                06/06/2010     18.0      0.029    0.91   \n",
       "8   381989 (2010 HR80)                04/28/2010     19.9      0.104    0.68   \n",
       "\n",
       "   Q (AU)  period (yr)  i (deg) PHA Orbit Class  OrbitClass_dummies  \\\n",
       "1    1.08         1.00    14.52   Y      Apollo                 1.0   \n",
       "2    2.00         1.31    23.11   N      Apollo                 1.0   \n",
       "6    2.34         1.96    27.85   Y      Apollo                 1.0   \n",
       "7    2.48         2.20     5.84   Y      Apollo                 1.0   \n",
       "8    2.02         1.56    26.71   N      Apollo                 1.0   \n",
       "\n",
       "   PHA_dummies  \n",
       "1          1.0  \n",
       "2          0.0  \n",
       "6          1.0  \n",
       "7          1.0  \n",
       "8          0.0  "
      ]
     },
     "execution_count": 10,
     "metadata": {},
     "output_type": "execute_result"
    }
   ],
   "source": [
    "training.head()"
   ]
  },
  {
   "cell_type": "code",
   "execution_count": null,
   "metadata": {
    "collapsed": false
   },
   "outputs": [],
   "source": []
  },
  {
   "cell_type": "code",
   "execution_count": 11,
   "metadata": {
    "collapsed": false
   },
   "outputs": [
    {
     "data": {
      "text/html": [
       "<div>\n",
       "<table border=\"1\" class=\"dataframe\">\n",
       "  <thead>\n",
       "    <tr style=\"text-align: right;\">\n",
       "      <th></th>\n",
       "      <th>H (mag)</th>\n",
       "      <th>MOID (AU)</th>\n",
       "      <th>q (AU)</th>\n",
       "      <th>Q (AU)</th>\n",
       "      <th>period (yr)</th>\n",
       "      <th>i (deg)</th>\n",
       "      <th>OrbitClass_dummies</th>\n",
       "    </tr>\n",
       "  </thead>\n",
       "  <tbody>\n",
       "    <tr>\n",
       "      <th>1</th>\n",
       "      <td>20.5</td>\n",
       "      <td>0.028</td>\n",
       "      <td>0.93</td>\n",
       "      <td>1.08</td>\n",
       "      <td>1.00</td>\n",
       "      <td>14.52</td>\n",
       "      <td>1.0</td>\n",
       "    </tr>\n",
       "    <tr>\n",
       "      <th>2</th>\n",
       "      <td>19.0</td>\n",
       "      <td>0.333</td>\n",
       "      <td>0.39</td>\n",
       "      <td>2.00</td>\n",
       "      <td>1.31</td>\n",
       "      <td>23.11</td>\n",
       "      <td>1.0</td>\n",
       "    </tr>\n",
       "    <tr>\n",
       "      <th>6</th>\n",
       "      <td>19.6</td>\n",
       "      <td>0.007</td>\n",
       "      <td>0.80</td>\n",
       "      <td>2.34</td>\n",
       "      <td>1.96</td>\n",
       "      <td>27.85</td>\n",
       "      <td>1.0</td>\n",
       "    </tr>\n",
       "    <tr>\n",
       "      <th>7</th>\n",
       "      <td>18.0</td>\n",
       "      <td>0.029</td>\n",
       "      <td>0.91</td>\n",
       "      <td>2.48</td>\n",
       "      <td>2.20</td>\n",
       "      <td>5.84</td>\n",
       "      <td>1.0</td>\n",
       "    </tr>\n",
       "    <tr>\n",
       "      <th>8</th>\n",
       "      <td>19.9</td>\n",
       "      <td>0.104</td>\n",
       "      <td>0.68</td>\n",
       "      <td>2.02</td>\n",
       "      <td>1.56</td>\n",
       "      <td>26.71</td>\n",
       "      <td>1.0</td>\n",
       "    </tr>\n",
       "  </tbody>\n",
       "</table>\n",
       "</div>"
      ],
      "text/plain": [
       "   H (mag)  MOID (AU)  q (AU)  Q (AU)  period (yr)  i (deg)  \\\n",
       "1     20.5      0.028    0.93    1.08         1.00    14.52   \n",
       "2     19.0      0.333    0.39    2.00         1.31    23.11   \n",
       "6     19.6      0.007    0.80    2.34         1.96    27.85   \n",
       "7     18.0      0.029    0.91    2.48         2.20     5.84   \n",
       "8     19.9      0.104    0.68    2.02         1.56    26.71   \n",
       "\n",
       "   OrbitClass_dummies  \n",
       "1                 1.0  \n",
       "2                 1.0  \n",
       "6                 1.0  \n",
       "7                 1.0  \n",
       "8                 1.0  "
      ]
     },
     "execution_count": 11,
     "metadata": {},
     "output_type": "execute_result"
    }
   ],
   "source": [
    "y=training[\"PHA_dummies\"]\n",
    "x=training.iloc[:,[2,3,4,5,6,7,10]]\n",
    "#x=train[:,\"Designation\":\"PHA\"]\n",
    "#x=train[\"Designation\",\"Discovery Date YYYY-MM-DD\",\"H (mag)\"]\n",
    "x.head()\n",
    "\n"
   ]
  },
  {
   "cell_type": "code",
   "execution_count": 12,
   "metadata": {
    "collapsed": true
   },
   "outputs": [],
   "source": [
    "pca = skdc.PCA() #empty model space"
   ]
  },
  {
   "cell_type": "code",
   "execution_count": 13,
   "metadata": {
    "collapsed": false
   },
   "outputs": [],
   "source": [
    "pcafit = pca.fit_transform(x,y) ##apply dimensionality reduction to X"
   ]
  },
  {
   "cell_type": "code",
   "execution_count": 14,
   "metadata": {
    "collapsed": false
   },
   "outputs": [
    {
     "name": "stdout",
     "output_type": "stream",
     "text": [
      "0    0.782251\n",
      "1    0.208034\n",
      "2    0.007040\n",
      "3    0.001722\n",
      "4    0.000767\n",
      "5    0.000143\n",
      "6    0.000042\n",
      "dtype: float64\n",
      "1.0\n"
     ]
    }
   ],
   "source": [
    "var_explained = pca.explained_variance_ratio_ #ratio of variance each PC explains\n",
    "print(pd.Series(var_explained))\n",
    "### some variables are not needed\n",
    "###since they explain less than.01 of the variance\n",
    "print(sum(var_explained[0:10]))\n",
    "##indeed,the first 2 PCs explain 99% of the variance"
   ]
  },
  {
   "cell_type": "code",
   "execution_count": 15,
   "metadata": {
    "collapsed": true
   },
   "outputs": [],
   "source": [
    "pca = skdc.PCA(0,1) #only include first 2 components\n",
    "logreg = sklm.LogisticRegression(x,y)#empty model space\n",
    "pipeline = skpl.Pipeline([('pca', pca), ('logistic', logreg)]) #create pipeline from pca to logregression space"
   ]
  },
  {
   "cell_type": "code",
   "execution_count": 16,
   "metadata": {
    "collapsed": false
   },
   "outputs": [
    {
     "data": {
      "text/plain": [
       "LogisticRegression(C=1.0, class_weight=None, dual=False, fit_intercept=True,\n",
       "          intercept_scaling=1, max_iter=100, multi_class='ovr', n_jobs=1,\n",
       "          penalty='l2', random_state=None, solver='liblinear', tol=0.0001,\n",
       "          verbose=0, warm_start=False)"
      ]
     },
     "execution_count": 16,
     "metadata": {},
     "output_type": "execute_result"
    }
   ],
   "source": [
    "model = LogisticRegression()\n",
    "model.fit(x,y)\n",
    "model"
   ]
  },
  {
   "cell_type": "code",
   "execution_count": null,
   "metadata": {
    "collapsed": true
   },
   "outputs": [],
   "source": []
  },
  {
   "cell_type": "code",
   "execution_count": 17,
   "metadata": {
    "collapsed": false
   },
   "outputs": [
    {
     "data": {
      "text/plain": [
       "array([[-0.00858753, -1.95651298, -0.0825224 , -0.44719817,  0.05124598,\n",
       "        -0.01234616,  0.39108462]])"
      ]
     },
     "execution_count": 17,
     "metadata": {},
     "output_type": "execute_result"
    }
   ],
   "source": [
    "model.coef_"
   ]
  },
  {
   "cell_type": "code",
   "execution_count": 18,
   "metadata": {
    "collapsed": false
   },
   "outputs": [
    {
     "data": {
      "text/plain": [
       "array([ 0.22566928])"
      ]
     },
     "execution_count": 18,
     "metadata": {},
     "output_type": "execute_result"
    }
   ],
   "source": [
    "model.intercept_"
   ]
  },
  {
   "cell_type": "code",
   "execution_count": 19,
   "metadata": {
    "collapsed": false
   },
   "outputs": [],
   "source": [
    "newX=test.iloc[:,[2,3,4,5,6,7,10]]"
   ]
  },
  {
   "cell_type": "code",
   "execution_count": 20,
   "metadata": {
    "collapsed": false
   },
   "outputs": [
    {
     "data": {
      "text/plain": [
       "array([ 0.,  0.,  0.,  0.,  0.,  0.,  0.,  0.,  0.,  0.,  0.,  0.,  0.,\n",
       "        0.,  0.,  0.,  0.,  0.,  0.,  0.,  0.,  0.,  0.,  0.,  0.,  0.,\n",
       "        0.,  0.,  0.,  0.,  0.,  0.,  0.,  0.,  0.,  0.,  0.,  0.,  0.,\n",
       "        0.,  0.,  0.,  0.,  0.,  0.,  0.,  0.,  0.,  0.,  0.,  0.,  0.,\n",
       "        0.,  0.])"
      ]
     },
     "execution_count": 20,
     "metadata": {},
     "output_type": "execute_result"
    }
   ],
   "source": [
    "model.predict(newX)"
   ]
  },
  {
   "cell_type": "code",
   "execution_count": 21,
   "metadata": {
    "collapsed": false
   },
   "outputs": [
    {
     "name": "stdout",
     "output_type": "stream",
     "text": [
      "[ 0.  1.]\n",
      "[[ 0.81852161  0.18147839]\n",
      " [ 0.91821909  0.08178091]\n",
      " [ 0.72088605  0.27911395]\n",
      " [ 0.65819049  0.34180951]\n",
      " [ 0.73972042  0.26027958]\n",
      " [ 0.88774651  0.11225349]\n",
      " [ 0.93979729  0.06020271]\n",
      " [ 0.90963219  0.09036781]\n",
      " [ 0.8981773   0.1018227 ]\n",
      " [ 0.85743161  0.14256839]\n",
      " [ 0.58668663  0.41331337]\n",
      " [ 0.89455726  0.10544274]\n",
      " [ 0.9217585   0.0782415 ]\n",
      " [ 0.65022992  0.34977008]\n",
      " [ 0.91415887  0.08584113]\n",
      " [ 0.7914096   0.2085904 ]\n",
      " [ 0.93925442  0.06074558]\n",
      " [ 0.91833763  0.08166237]\n",
      " [ 0.82074325  0.17925675]\n",
      " [ 0.84776686  0.15223314]\n",
      " [ 0.82252685  0.17747315]\n",
      " [ 0.9009167   0.0990833 ]\n",
      " [ 0.94694118  0.05305882]\n",
      " [ 0.89015683  0.10984317]\n",
      " [ 0.71684034  0.28315966]\n",
      " [ 0.92200977  0.07799023]\n",
      " [ 0.89156313  0.10843687]\n",
      " [ 0.74955615  0.25044385]\n",
      " [ 0.68112121  0.31887879]\n",
      " [ 0.93022315  0.06977685]\n",
      " [ 0.71526723  0.28473277]\n",
      " [ 0.81425972  0.18574028]\n",
      " [ 0.83837646  0.16162354]\n",
      " [ 0.84755006  0.15244994]\n",
      " [ 0.73747691  0.26252309]\n",
      " [ 0.90958343  0.09041657]\n",
      " [ 0.90000634  0.09999366]\n",
      " [ 0.91834516  0.08165484]\n",
      " [ 0.6213987   0.3786013 ]\n",
      " [ 0.89058281  0.10941719]\n",
      " [ 0.76716042  0.23283958]\n",
      " [ 0.8750734   0.1249266 ]\n",
      " [ 0.7148159   0.2851841 ]\n",
      " [ 0.80320302  0.19679698]\n",
      " [ 0.67748625  0.32251375]\n",
      " [ 0.85636393  0.14363607]\n",
      " [ 0.90866184  0.09133816]\n",
      " [ 0.88110938  0.11889062]\n",
      " [ 0.62592066  0.37407934]\n",
      " [ 0.67384277  0.32615723]\n",
      " [ 0.9203298   0.0796702 ]\n",
      " [ 0.75619144  0.24380856]\n",
      " [ 0.92611198  0.07388802]\n",
      " [ 0.75447524  0.24552476]]\n"
     ]
    }
   ],
   "source": [
    "print(model.classes_)\n",
    "print(model.predict_proba(newX))\n",
    "k=model.predict_proba(newX)"
   ]
  },
  {
   "cell_type": "code",
   "execution_count": 22,
   "metadata": {
    "collapsed": false
   },
   "outputs": [
    {
     "data": {
      "text/plain": [
       "array([ 0.,  0.,  0.,  0.,  0.,  0.,  0.,  0.,  0.,  0.,  0.,  0.,  0.,\n",
       "        0.,  0.,  0.,  0.,  0.,  0.,  0.,  0.,  0.,  0.,  0.,  0.,  0.,\n",
       "        0.,  0.,  0.,  0.,  0.,  0.,  0.,  0.,  0.,  0.,  0.,  0.,  0.,\n",
       "        0.,  0.,  0.,  0.,  0.,  0.,  0.,  0.,  0.,  0.,  0.,  0.,  0.,\n",
       "        0.,  0.])"
      ]
     },
     "execution_count": 22,
     "metadata": {},
     "output_type": "execute_result"
    }
   ],
   "source": [
    "k=pd.DataFrame(k)\n",
    "indx = k.idxmax(axis=1)\n",
    "pred_class=model.classes_[indx]\n",
    "pred_class"
   ]
  },
  {
   "cell_type": "code",
   "execution_count": 23,
   "metadata": {
    "collapsed": false
   },
   "outputs": [
    {
     "data": {
      "text/plain": [
       "0     1.0\n",
       "3     0.0\n",
       "4     0.0\n",
       "5     1.0\n",
       "10    0.0\n",
       "Name: PHA_dummies, dtype: float64"
      ]
     },
     "execution_count": 23,
     "metadata": {},
     "output_type": "execute_result"
    }
   ],
   "source": [
    "newy=test[\"PHA_dummies\"]\n",
    "newy.head()\n",
    "\n"
   ]
  },
  {
   "cell_type": "code",
   "execution_count": 24,
   "metadata": {
    "collapsed": false
   },
   "outputs": [],
   "source": [
    "#newy==pred_class"
   ]
  },
  {
   "cell_type": "code",
   "execution_count": 25,
   "metadata": {
    "collapsed": false
   },
   "outputs": [
    {
     "data": {
      "text/plain": [
       "array([[48,  0],\n",
       "       [ 6,  0]])"
      ]
     },
     "execution_count": 25,
     "metadata": {},
     "output_type": "execute_result"
    }
   ],
   "source": [
    "con=confusion_matrix(newy,pred_class)\n",
    "con"
   ]
  },
  {
   "cell_type": "code",
   "execution_count": 26,
   "metadata": {
    "collapsed": false
   },
   "outputs": [
    {
     "name": "stdout",
     "output_type": "stream",
     "text": [
      "[54  0]\n",
      "54\n"
     ]
    }
   ],
   "source": [
    "print(sum(con))\n",
    "print(sum(sum(con)))"
   ]
  },
  {
   "cell_type": "code",
   "execution_count": 27,
   "metadata": {
    "collapsed": false
   },
   "outputs": [
    {
     "name": "stdout",
     "output_type": "stream",
     "text": [
      "             precision    recall  f1-score   support\n",
      "\n",
      "        0.0       0.89      1.00      0.94        48\n",
      "        1.0       0.00      0.00      0.00         6\n",
      "\n",
      "avg / total       0.79      0.89      0.84        54\n",
      "\n"
     ]
    },
    {
     "name": "stderr",
     "output_type": "stream",
     "text": [
      "C:\\ANACONDA3\\lib\\site-packages\\sklearn\\metrics\\classification.py:1074: UndefinedMetricWarning: Precision and F-score are ill-defined and being set to 0.0 in labels with no predicted samples.\n",
      "  'precision', 'predicted', average, warn_for)\n"
     ]
    }
   ],
   "source": [
    "print(classification_report(newy,pred_class))"
   ]
  },
  {
   "cell_type": "code",
   "execution_count": null,
   "metadata": {
    "collapsed": true
   },
   "outputs": [],
   "source": []
  }
 ],
 "metadata": {
  "anaconda-cloud": {},
  "kernelspec": {
   "display_name": "Python [default]",
   "language": "python",
   "name": "python3"
  },
  "language_info": {
   "codemirror_mode": {
    "name": "ipython",
    "version": 3
   },
   "file_extension": ".py",
   "mimetype": "text/x-python",
   "name": "python",
   "nbconvert_exporter": "python",
   "pygments_lexer": "ipython3",
   "version": "3.5.2"
  }
 },
 "nbformat": 4,
 "nbformat_minor": 1
}
