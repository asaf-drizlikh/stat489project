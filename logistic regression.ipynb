{
 "cells": [
  {
   "cell_type": "code",
   "execution_count": 2,
   "metadata": {},
   "outputs": [
    {
     "name": "stderr",
     "output_type": "stream",
     "text": [
      "/usr/lib/python3.5/site-packages/IPython/html.py:14: ShimWarning: The `IPython.html` package has been deprecated since IPython 4.0. You should import from `notebook` instead. `IPython.html.widgets` has moved to `ipywidgets`.\n",
      "  \"`IPython.html.widgets` has moved to `ipywidgets`.\", ShimWarning)\n"
     ]
    }
   ],
   "source": [
    "from sklearn.linear_model import LogisticRegression\n",
    "import pandas as pd\n",
    "import numpy as np\n",
    "from sklearn.metrics import confusion_matrix\n",
    "from sklearn.metrics import classification_report\n",
    "import seaborn as sb\n",
    "import sklearn.linear_model as sklm \n",
    "import sklearn.decomposition as skdc\n",
    "import sklearn.pipeline as skpl\n",
    "%matplotlib inline"
   ]
  },
  {
   "cell_type": "code",
   "execution_count": 3,
   "metadata": {
    "scrolled": true
   },
   "outputs": [
    {
     "name": "stdout",
     "output_type": "stream",
     "text": [
      "181\n"
     ]
    },
    {
     "data": {
      "text/html": [
       "<div>\n",
       "<table border=\"1\" class=\"dataframe\">\n",
       "  <thead>\n",
       "    <tr style=\"text-align: right;\">\n",
       "      <th></th>\n",
       "      <th>Designation</th>\n",
       "      <th>Discovery Date YYYY-MM-DD</th>\n",
       "      <th>H (mag)</th>\n",
       "      <th>MOID (AU)</th>\n",
       "      <th>q (AU)</th>\n",
       "      <th>Q (AU)</th>\n",
       "      <th>period (yr)</th>\n",
       "      <th>i (deg)</th>\n",
       "      <th>PHA</th>\n",
       "      <th>Orbit Class</th>\n",
       "    </tr>\n",
       "  </thead>\n",
       "  <tbody>\n",
       "    <tr>\n",
       "      <th>0</th>\n",
       "      <td>419880 (2011 AH37)</td>\n",
       "      <td>01/07/2011</td>\n",
       "      <td>19.7</td>\n",
       "      <td>0.035</td>\n",
       "      <td>0.84</td>\n",
       "      <td>4.26</td>\n",
       "      <td>4.06</td>\n",
       "      <td>9.65</td>\n",
       "      <td>Y</td>\n",
       "      <td>Apollo</td>\n",
       "    </tr>\n",
       "    <tr>\n",
       "      <th>1</th>\n",
       "      <td>419624 (2010 SO16)</td>\n",
       "      <td>09/17/2010</td>\n",
       "      <td>20.5</td>\n",
       "      <td>0.028</td>\n",
       "      <td>0.93</td>\n",
       "      <td>1.08</td>\n",
       "      <td>1.00</td>\n",
       "      <td>14.52</td>\n",
       "      <td>Y</td>\n",
       "      <td>Apollo</td>\n",
       "    </tr>\n",
       "    <tr>\n",
       "      <th>2</th>\n",
       "      <td>414772 (2010 OC103)</td>\n",
       "      <td>07/28/2010</td>\n",
       "      <td>19.0</td>\n",
       "      <td>0.333</td>\n",
       "      <td>0.39</td>\n",
       "      <td>2.00</td>\n",
       "      <td>1.31</td>\n",
       "      <td>23.11</td>\n",
       "      <td>N</td>\n",
       "      <td>Apollo</td>\n",
       "    </tr>\n",
       "    <tr>\n",
       "      <th>3</th>\n",
       "      <td>414746 (2010 EH20)</td>\n",
       "      <td>03/06/2010</td>\n",
       "      <td>18.0</td>\n",
       "      <td>0.268</td>\n",
       "      <td>1.25</td>\n",
       "      <td>3.99</td>\n",
       "      <td>4.24</td>\n",
       "      <td>23.89</td>\n",
       "      <td>N</td>\n",
       "      <td>Amor</td>\n",
       "    </tr>\n",
       "    <tr>\n",
       "      <th>4</th>\n",
       "      <td>407324 (2010 OB101)</td>\n",
       "      <td>07/18/2010</td>\n",
       "      <td>20.7</td>\n",
       "      <td>0.111</td>\n",
       "      <td>0.77</td>\n",
       "      <td>2.46</td>\n",
       "      <td>2.06</td>\n",
       "      <td>9.12</td>\n",
       "      <td>N</td>\n",
       "      <td>Apollo</td>\n",
       "    </tr>\n",
       "  </tbody>\n",
       "</table>\n",
       "</div>"
      ],
      "text/plain": [
       "           Designation Discovery Date YYYY-MM-DD  H (mag)  MOID (AU)  q (AU)  \\\n",
       "0   419880 (2011 AH37)                01/07/2011     19.7      0.035    0.84   \n",
       "1   419624 (2010 SO16)                09/17/2010     20.5      0.028    0.93   \n",
       "2  414772 (2010 OC103)                07/28/2010     19.0      0.333    0.39   \n",
       "3   414746 (2010 EH20)                03/06/2010     18.0      0.268    1.25   \n",
       "4  407324 (2010 OB101)                07/18/2010     20.7      0.111    0.77   \n",
       "\n",
       "   Q (AU)  period (yr)  i (deg) PHA Orbit Class  \n",
       "0    4.26         4.06     9.65   Y      Apollo  \n",
       "1    1.08         1.00    14.52   Y      Apollo  \n",
       "2    2.00         1.31    23.11   N      Apollo  \n",
       "3    3.99         4.24    23.89   N        Amor  \n",
       "4    2.46         2.06     9.12   N      Apollo  "
      ]
     },
     "execution_count": 3,
     "metadata": {},
     "output_type": "execute_result"
    }
   ],
   "source": [
    "import Comet_Removal\n",
    "%run Comet_Removal\n",
    "\n",
    "print(len(data))\n",
    "data.head()"
   ]
  },
  {
   "cell_type": "code",
   "execution_count": 4,
   "metadata": {
    "collapsed": true
   },
   "outputs": [],
   "source": [
    "#standardization\n",
    "def standardization(x): #Define function to standardize the data, since all variables are not in the same units\n",
    "    xmean = np.mean(x) ##calculate mean\n",
    "    sd = np.std(x) ##calculate standard deviation \n",
    "    x_z = (x - xmean) / sd ##calculate standardized value to return\n",
    "    return(x_z)"
   ]
  },
  {
   "cell_type": "code",
   "execution_count": 5,
   "metadata": {},
   "outputs": [
    {
     "data": {
      "text/html": [
       "<div>\n",
       "<table border=\"1\" class=\"dataframe\">\n",
       "  <thead>\n",
       "    <tr style=\"text-align: right;\">\n",
       "      <th></th>\n",
       "      <th>Designation</th>\n",
       "      <th>Discovery Date YYYY-MM-DD</th>\n",
       "      <th>H (mag)</th>\n",
       "      <th>MOID (AU)</th>\n",
       "      <th>q (AU)</th>\n",
       "      <th>Q (AU)</th>\n",
       "      <th>period (yr)</th>\n",
       "      <th>i (deg)</th>\n",
       "      <th>PHA</th>\n",
       "      <th>Orbit Class</th>\n",
       "    </tr>\n",
       "  </thead>\n",
       "  <tbody>\n",
       "    <tr>\n",
       "      <th>0</th>\n",
       "      <td>419880 (2011 AH37)</td>\n",
       "      <td>01/07/2011</td>\n",
       "      <td>19.7</td>\n",
       "      <td>0.035</td>\n",
       "      <td>0.84</td>\n",
       "      <td>4.26</td>\n",
       "      <td>4.06</td>\n",
       "      <td>9.65</td>\n",
       "      <td>Y</td>\n",
       "      <td>Apollo</td>\n",
       "    </tr>\n",
       "    <tr>\n",
       "      <th>1</th>\n",
       "      <td>419624 (2010 SO16)</td>\n",
       "      <td>09/17/2010</td>\n",
       "      <td>20.5</td>\n",
       "      <td>0.028</td>\n",
       "      <td>0.93</td>\n",
       "      <td>1.08</td>\n",
       "      <td>1.00</td>\n",
       "      <td>14.52</td>\n",
       "      <td>Y</td>\n",
       "      <td>Apollo</td>\n",
       "    </tr>\n",
       "    <tr>\n",
       "      <th>2</th>\n",
       "      <td>414772 (2010 OC103)</td>\n",
       "      <td>07/28/2010</td>\n",
       "      <td>19.0</td>\n",
       "      <td>0.333</td>\n",
       "      <td>0.39</td>\n",
       "      <td>2.00</td>\n",
       "      <td>1.31</td>\n",
       "      <td>23.11</td>\n",
       "      <td>N</td>\n",
       "      <td>Apollo</td>\n",
       "    </tr>\n",
       "    <tr>\n",
       "      <th>3</th>\n",
       "      <td>414746 (2010 EH20)</td>\n",
       "      <td>03/06/2010</td>\n",
       "      <td>18.0</td>\n",
       "      <td>0.268</td>\n",
       "      <td>1.25</td>\n",
       "      <td>3.99</td>\n",
       "      <td>4.24</td>\n",
       "      <td>23.89</td>\n",
       "      <td>N</td>\n",
       "      <td>Amor</td>\n",
       "    </tr>\n",
       "    <tr>\n",
       "      <th>4</th>\n",
       "      <td>407324 (2010 OB101)</td>\n",
       "      <td>07/18/2010</td>\n",
       "      <td>20.7</td>\n",
       "      <td>0.111</td>\n",
       "      <td>0.77</td>\n",
       "      <td>2.46</td>\n",
       "      <td>2.06</td>\n",
       "      <td>9.12</td>\n",
       "      <td>N</td>\n",
       "      <td>Apollo</td>\n",
       "    </tr>\n",
       "  </tbody>\n",
       "</table>\n",
       "</div>"
      ],
      "text/plain": [
       "           Designation Discovery Date YYYY-MM-DD  H (mag)  MOID (AU)  q (AU)  \\\n",
       "0   419880 (2011 AH37)                01/07/2011     19.7      0.035    0.84   \n",
       "1   419624 (2010 SO16)                09/17/2010     20.5      0.028    0.93   \n",
       "2  414772 (2010 OC103)                07/28/2010     19.0      0.333    0.39   \n",
       "3   414746 (2010 EH20)                03/06/2010     18.0      0.268    1.25   \n",
       "4  407324 (2010 OB101)                07/18/2010     20.7      0.111    0.77   \n",
       "\n",
       "   Q (AU)  period (yr)  i (deg) PHA Orbit Class  \n",
       "0    4.26         4.06     9.65   Y      Apollo  \n",
       "1    1.08         1.00    14.52   Y      Apollo  \n",
       "2    2.00         1.31    23.11   N      Apollo  \n",
       "3    3.99         4.24    23.89   N        Amor  \n",
       "4    2.46         2.06     9.12   N      Apollo  "
      ]
     },
     "execution_count": 5,
     "metadata": {},
     "output_type": "execute_result"
    }
   ],
   "source": [
    "#data_temp=data.drop(\"Designation\")\n",
    "data.columns=['Designation', 'Discovery Date YYYY-MM-DD', 'H (mag)',\n",
    "       'MOID (AU)', 'q (AU)', 'Q (AU)', 'period (yr)', 'i (deg)', 'PHA','Orbit Class']\n",
    "#data_temp=data.drop(\"Discovery Date YYYY-MM-DD\")\n",
    "#data = data.drop(['Designation','Discovery Date YYYY-MM-DD','PHA','Orbit Class'], 1).apply(standardization,broadcast = True) \n",
    "\n",
    "data.head()\n",
    "\n"
   ]
  },
  {
   "cell_type": "code",
   "execution_count": 6,
   "metadata": {},
   "outputs": [
    {
     "name": "stdout",
     "output_type": "stream",
     "text": [
      "   Amor  Apollo  Aten\n",
      "0     0       1     0\n",
      "1     0       1     0\n",
      "2     0       1     0\n",
      "3     1       0     0\n",
      "4     0       1     0\n"
     ]
    }
   ],
   "source": [
    "print(pd.get_dummies(data['Orbit Class']).head(5))\n",
    "data['OrbitClass_dummies'] = pd.get_dummies(data['Orbit Class']).iloc[:,1]\n",
    "\n",
    "#print(pd.get_dummies(data['Orbit Class'].head(1), dummy_na=True)"
   ]
  },
  {
   "cell_type": "code",
   "execution_count": 7,
   "metadata": {},
   "outputs": [
    {
     "name": "stdout",
     "output_type": "stream",
     "text": [
      "   N  Y\n",
      "0  0  1\n",
      "1  0  1\n",
      "2  1  0\n",
      "3  1  0\n",
      "4  1  0\n"
     ]
    }
   ],
   "source": [
    "print(pd.get_dummies(data['PHA']).head(5))\n",
    "data['PHA_dummies'] = pd.get_dummies(data['PHA']).iloc[:,1]"
   ]
  },
  {
   "cell_type": "code",
   "execution_count": 8,
   "metadata": {},
   "outputs": [
    {
     "data": {
      "text/html": [
       "<div>\n",
       "<table border=\"1\" class=\"dataframe\">\n",
       "  <thead>\n",
       "    <tr style=\"text-align: right;\">\n",
       "      <th></th>\n",
       "      <th>H (mag)</th>\n",
       "      <th>MOID (AU)</th>\n",
       "      <th>q (AU)</th>\n",
       "      <th>Q (AU)</th>\n",
       "      <th>period (yr)</th>\n",
       "      <th>i (deg)</th>\n",
       "      <th>OrbitClass_dummies</th>\n",
       "      <th>PHA_dummies</th>\n",
       "    </tr>\n",
       "  </thead>\n",
       "  <tbody>\n",
       "    <tr>\n",
       "      <th>H (mag)</th>\n",
       "      <td>1.000000</td>\n",
       "      <td>-0.348351</td>\n",
       "      <td>0.066357</td>\n",
       "      <td>-0.122676</td>\n",
       "      <td>-0.061092</td>\n",
       "      <td>-0.404660</td>\n",
       "      <td>0.171101</td>\n",
       "      <td>0.080128</td>\n",
       "    </tr>\n",
       "    <tr>\n",
       "      <th>MOID (AU)</th>\n",
       "      <td>-0.348351</td>\n",
       "      <td>1.000000</td>\n",
       "      <td>0.000562</td>\n",
       "      <td>0.691628</td>\n",
       "      <td>0.684569</td>\n",
       "      <td>0.513562</td>\n",
       "      <td>-0.170570</td>\n",
       "      <td>-0.368525</td>\n",
       "    </tr>\n",
       "    <tr>\n",
       "      <th>q (AU)</th>\n",
       "      <td>0.066357</td>\n",
       "      <td>0.000562</td>\n",
       "      <td>1.000000</td>\n",
       "      <td>0.144295</td>\n",
       "      <td>0.159065</td>\n",
       "      <td>0.037985</td>\n",
       "      <td>-0.485099</td>\n",
       "      <td>-0.078787</td>\n",
       "    </tr>\n",
       "    <tr>\n",
       "      <th>Q (AU)</th>\n",
       "      <td>-0.122676</td>\n",
       "      <td>0.691628</td>\n",
       "      <td>0.144295</td>\n",
       "      <td>1.000000</td>\n",
       "      <td>0.971313</td>\n",
       "      <td>0.423804</td>\n",
       "      <td>-0.062345</td>\n",
       "      <td>-0.128835</td>\n",
       "    </tr>\n",
       "    <tr>\n",
       "      <th>period (yr)</th>\n",
       "      <td>-0.061092</td>\n",
       "      <td>0.684569</td>\n",
       "      <td>0.159065</td>\n",
       "      <td>0.971313</td>\n",
       "      <td>1.000000</td>\n",
       "      <td>0.417418</td>\n",
       "      <td>-0.096547</td>\n",
       "      <td>-0.078338</td>\n",
       "    </tr>\n",
       "  </tbody>\n",
       "</table>\n",
       "</div>"
      ],
      "text/plain": [
       "              H (mag)  MOID (AU)    q (AU)    Q (AU)  period (yr)   i (deg)  \\\n",
       "H (mag)      1.000000  -0.348351  0.066357 -0.122676    -0.061092 -0.404660   \n",
       "MOID (AU)   -0.348351   1.000000  0.000562  0.691628     0.684569  0.513562   \n",
       "q (AU)       0.066357   0.000562  1.000000  0.144295     0.159065  0.037985   \n",
       "Q (AU)      -0.122676   0.691628  0.144295  1.000000     0.971313  0.423804   \n",
       "period (yr) -0.061092   0.684569  0.159065  0.971313     1.000000  0.417418   \n",
       "\n",
       "             OrbitClass_dummies  PHA_dummies  \n",
       "H (mag)                0.171101     0.080128  \n",
       "MOID (AU)             -0.170570    -0.368525  \n",
       "q (AU)                -0.485099    -0.078787  \n",
       "Q (AU)                -0.062345    -0.128835  \n",
       "period (yr)           -0.096547    -0.078338  "
      ]
     },
     "execution_count": 8,
     "metadata": {},
     "output_type": "execute_result"
    }
   ],
   "source": [
    "datacorr = data.corr() #correlation matrix, showing correlation between each variable and all the others\n",
    "data.corr().head()"
   ]
  },
  {
   "cell_type": "code",
   "execution_count": 9,
   "metadata": {},
   "outputs": [
    {
     "data": {
      "text/plain": [
       "<matplotlib.axes._subplots.AxesSubplot at 0x7f27efe1a6d8>"
      ]
     },
     "execution_count": 9,
     "metadata": {},
     "output_type": "execute_result"
    },
    {
     "data": {
      "image/png": "[encoded data removed]",
      "text/plain": [
       "<matplotlib.figure.Figure at 0x7f27efe1a4e0>"
      ]
     },
     "metadata": {},
     "output_type": "display_data"
    }
   ],
   "source": [
    "sb.heatmap(datacorr, cmap = 'bwr') #heatmap of correlation matrix\n",
    "###darker colors represent higher correlation, several pairs of variables are highly correlated."
   ]
  },
  {
   "cell_type": "code",
   "execution_count": null,
   "metadata": {
    "collapsed": true
   },
   "outputs": [],
   "source": []
  },
  {
   "cell_type": "code",
   "execution_count": 10,
   "metadata": {},
   "outputs": [
    {
     "data": {
      "text/plain": [
       "124"
      ]
     },
     "execution_count": 10,
     "metadata": {},
     "output_type": "execute_result"
    }
   ],
   "source": [
    "\n",
    "msk=np.random.rand(len(data))<0.7\n",
    "training=data[msk]\n",
    "test=data[~msk]\n",
    "len(test)\n",
    "len(training)\n"
   ]
  },
  {
   "cell_type": "code",
   "execution_count": 11,
   "metadata": {},
   "outputs": [
    {
     "data": {
      "text/html": [
       "<div>\n",
       "<table border=\"1\" class=\"dataframe\">\n",
       "  <thead>\n",
       "    <tr style=\"text-align: right;\">\n",
       "      <th></th>\n",
       "      <th>Designation</th>\n",
       "      <th>Discovery Date YYYY-MM-DD</th>\n",
       "      <th>H (mag)</th>\n",
       "      <th>MOID (AU)</th>\n",
       "      <th>q (AU)</th>\n",
       "      <th>Q (AU)</th>\n",
       "      <th>period (yr)</th>\n",
       "      <th>i (deg)</th>\n",
       "      <th>PHA</th>\n",
       "      <th>Orbit Class</th>\n",
       "      <th>OrbitClass_dummies</th>\n",
       "      <th>PHA_dummies</th>\n",
       "    </tr>\n",
       "  </thead>\n",
       "  <tbody>\n",
       "    <tr>\n",
       "      <th>1</th>\n",
       "      <td>419624 (2010 SO16)</td>\n",
       "      <td>09/17/2010</td>\n",
       "      <td>20.5</td>\n",
       "      <td>0.028</td>\n",
       "      <td>0.93</td>\n",
       "      <td>1.08</td>\n",
       "      <td>1.00</td>\n",
       "      <td>14.52</td>\n",
       "      <td>Y</td>\n",
       "      <td>Apollo</td>\n",
       "      <td>1</td>\n",
       "      <td>1</td>\n",
       "    </tr>\n",
       "    <tr>\n",
       "      <th>3</th>\n",
       "      <td>414746 (2010 EH20)</td>\n",
       "      <td>03/06/2010</td>\n",
       "      <td>18.0</td>\n",
       "      <td>0.268</td>\n",
       "      <td>1.25</td>\n",
       "      <td>3.99</td>\n",
       "      <td>4.24</td>\n",
       "      <td>23.89</td>\n",
       "      <td>N</td>\n",
       "      <td>Amor</td>\n",
       "      <td>0</td>\n",
       "      <td>0</td>\n",
       "    </tr>\n",
       "    <tr>\n",
       "      <th>4</th>\n",
       "      <td>407324 (2010 OB101)</td>\n",
       "      <td>07/18/2010</td>\n",
       "      <td>20.7</td>\n",
       "      <td>0.111</td>\n",
       "      <td>0.77</td>\n",
       "      <td>2.46</td>\n",
       "      <td>2.06</td>\n",
       "      <td>9.12</td>\n",
       "      <td>N</td>\n",
       "      <td>Apollo</td>\n",
       "      <td>1</td>\n",
       "      <td>0</td>\n",
       "    </tr>\n",
       "    <tr>\n",
       "      <th>5</th>\n",
       "      <td>398188 (2010 LE15)</td>\n",
       "      <td>06/03/2010</td>\n",
       "      <td>19.5</td>\n",
       "      <td>0.024</td>\n",
       "      <td>0.63</td>\n",
       "      <td>1.10</td>\n",
       "      <td>0.80</td>\n",
       "      <td>13.25</td>\n",
       "      <td>Y</td>\n",
       "      <td>Aten</td>\n",
       "      <td>0</td>\n",
       "      <td>1</td>\n",
       "    </tr>\n",
       "    <tr>\n",
       "      <th>6</th>\n",
       "      <td>395207 (2010 HQ80)</td>\n",
       "      <td>04/25/2010</td>\n",
       "      <td>19.6</td>\n",
       "      <td>0.007</td>\n",
       "      <td>0.80</td>\n",
       "      <td>2.34</td>\n",
       "      <td>1.96</td>\n",
       "      <td>27.85</td>\n",
       "      <td>Y</td>\n",
       "      <td>Apollo</td>\n",
       "      <td>1</td>\n",
       "      <td>1</td>\n",
       "    </tr>\n",
       "  </tbody>\n",
       "</table>\n",
       "</div>"
      ],
      "text/plain": [
       "           Designation Discovery Date YYYY-MM-DD  H (mag)  MOID (AU)  q (AU)  \\\n",
       "1   419624 (2010 SO16)                09/17/2010     20.5      0.028    0.93   \n",
       "3   414746 (2010 EH20)                03/06/2010     18.0      0.268    1.25   \n",
       "4  407324 (2010 OB101)                07/18/2010     20.7      0.111    0.77   \n",
       "5   398188 (2010 LE15)                06/03/2010     19.5      0.024    0.63   \n",
       "6   395207 (2010 HQ80)                04/25/2010     19.6      0.007    0.80   \n",
       "\n",
       "   Q (AU)  period (yr)  i (deg) PHA Orbit Class  OrbitClass_dummies  \\\n",
       "1    1.08         1.00    14.52   Y      Apollo                   1   \n",
       "3    3.99         4.24    23.89   N        Amor                   0   \n",
       "4    2.46         2.06     9.12   N      Apollo                   1   \n",
       "5    1.10         0.80    13.25   Y        Aten                   0   \n",
       "6    2.34         1.96    27.85   Y      Apollo                   1   \n",
       "\n",
       "   PHA_dummies  \n",
       "1            1  \n",
       "3            0  \n",
       "4            0  \n",
       "5            1  \n",
       "6            1  "
      ]
     },
     "execution_count": 11,
     "metadata": {},
     "output_type": "execute_result"
    }
   ],
   "source": [
    "training.head()"
   ]
  },
  {
   "cell_type": "code",
   "execution_count": null,
   "metadata": {},
   "outputs": [],
   "source": []
  },
  {
   "cell_type": "code",
   "execution_count": 12,
   "metadata": {},
   "outputs": [
    {
     "data": {
      "text/html": [
       "<div>\n",
       "<table border=\"1\" class=\"dataframe\">\n",
       "  <thead>\n",
       "    <tr style=\"text-align: right;\">\n",
       "      <th></th>\n",
       "      <th>H (mag)</th>\n",
       "      <th>MOID (AU)</th>\n",
       "      <th>q (AU)</th>\n",
       "      <th>Q (AU)</th>\n",
       "      <th>period (yr)</th>\n",
       "      <th>i (deg)</th>\n",
       "      <th>OrbitClass_dummies</th>\n",
       "    </tr>\n",
       "  </thead>\n",
       "  <tbody>\n",
       "    <tr>\n",
       "      <th>1</th>\n",
       "      <td>20.5</td>\n",
       "      <td>0.028</td>\n",
       "      <td>0.93</td>\n",
       "      <td>1.08</td>\n",
       "      <td>1.00</td>\n",
       "      <td>14.52</td>\n",
       "      <td>1</td>\n",
       "    </tr>\n",
       "    <tr>\n",
       "      <th>3</th>\n",
       "      <td>18.0</td>\n",
       "      <td>0.268</td>\n",
       "      <td>1.25</td>\n",
       "      <td>3.99</td>\n",
       "      <td>4.24</td>\n",
       "      <td>23.89</td>\n",
       "      <td>0</td>\n",
       "    </tr>\n",
       "    <tr>\n",
       "      <th>4</th>\n",
       "      <td>20.7</td>\n",
       "      <td>0.111</td>\n",
       "      <td>0.77</td>\n",
       "      <td>2.46</td>\n",
       "      <td>2.06</td>\n",
       "      <td>9.12</td>\n",
       "      <td>1</td>\n",
       "    </tr>\n",
       "    <tr>\n",
       "      <th>5</th>\n",
       "      <td>19.5</td>\n",
       "      <td>0.024</td>\n",
       "      <td>0.63</td>\n",
       "      <td>1.10</td>\n",
       "      <td>0.80</td>\n",
       "      <td>13.25</td>\n",
       "      <td>0</td>\n",
       "    </tr>\n",
       "    <tr>\n",
       "      <th>6</th>\n",
       "      <td>19.6</td>\n",
       "      <td>0.007</td>\n",
       "      <td>0.80</td>\n",
       "      <td>2.34</td>\n",
       "      <td>1.96</td>\n",
       "      <td>27.85</td>\n",
       "      <td>1</td>\n",
       "    </tr>\n",
       "  </tbody>\n",
       "</table>\n",
       "</div>"
      ],
      "text/plain": [
       "   H (mag)  MOID (AU)  q (AU)  Q (AU)  period (yr)  i (deg)  \\\n",
       "1     20.5      0.028    0.93    1.08         1.00    14.52   \n",
       "3     18.0      0.268    1.25    3.99         4.24    23.89   \n",
       "4     20.7      0.111    0.77    2.46         2.06     9.12   \n",
       "5     19.5      0.024    0.63    1.10         0.80    13.25   \n",
       "6     19.6      0.007    0.80    2.34         1.96    27.85   \n",
       "\n",
       "   OrbitClass_dummies  \n",
       "1                   1  \n",
       "3                   0  \n",
       "4                   1  \n",
       "5                   0  \n",
       "6                   1  "
      ]
     },
     "execution_count": 12,
     "metadata": {},
     "output_type": "execute_result"
    }
   ],
   "source": [
    "y=training[\"PHA_dummies\"]\n",
    "x=training.iloc[:,[2,3,4,5,6,7,10]]\n",
    "#x=train[:,\"Designation\":\"PHA\"]\n",
    "#x=train[\"Designation\",\"Discovery Date YYYY-MM-DD\",\"H (mag)\"]\n",
    "x.head()\n",
    "\n"
   ]
  },
  {
   "cell_type": "code",
   "execution_count": 13,
   "metadata": {
    "collapsed": true
   },
   "outputs": [],
   "source": [
    "pca = skdc.PCA() #empty model space"
   ]
  },
  {
   "cell_type": "code",
   "execution_count": 14,
   "metadata": {},
   "outputs": [],
   "source": [
    "pcafit = pca.fit_transform(x,y) ##apply dimensionality reduction to X"
   ]
  },
  {
   "cell_type": "code",
   "execution_count": 15,
   "metadata": {},
   "outputs": [
    {
     "name": "stdout",
     "output_type": "stream",
     "text": [
      "0    0.951914\n",
      "1    0.033116\n",
      "2    0.012546\n",
      "3    0.001918\n",
      "4    0.000346\n",
      "5    0.000097\n",
      "6    0.000062\n",
      "dtype: float64\n",
      "1.0\n"
     ]
    }
   ],
   "source": [
    "var_explained = pca.explained_variance_ratio_ #ratio of variance each PC explains\n",
    "print(pd.Series(var_explained))\n",
    "### some variables are not needed\n",
    "###since they explain less than.01 of the variance\n",
    "print(sum(var_explained[0:10]))\n",
    "##indeed,the first 2 PCs explain 99% of the variance"
   ]
  },
  {
   "cell_type": "code",
   "execution_count": 16,
   "metadata": {
    "collapsed": true
   },
   "outputs": [],
   "source": [
    "pca = skdc.PCA(0,1) #only include first 2 components\n",
    "logreg = sklm.LogisticRegression(x,y)#empty model space\n",
    "pipeline = skpl.Pipeline([('pca', pca), ('logistic', logreg)]) #create pipeline from pca to logregression space"
   ]
  },
  {
   "cell_type": "code",
   "execution_count": 17,
   "metadata": {},
   "outputs": [
    {
     "data": {
      "text/plain": [
       "LogisticRegression(C=1.0, class_weight=None, dual=False, fit_intercept=True,\n",
       "          intercept_scaling=1, max_iter=100, multi_class='ovr', n_jobs=1,\n",
       "          penalty='l2', random_state=None, solver='liblinear', tol=0.0001,\n",
       "          verbose=0, warm_start=False)"
      ]
     },
     "execution_count": 17,
     "metadata": {},
     "output_type": "execute_result"
    }
   ],
   "source": [
    "model = LogisticRegression()\n",
    "model.fit(x,y)\n",
    "model"
   ]
  },
  {
   "cell_type": "code",
   "execution_count": null,
   "metadata": {
    "collapsed": true
   },
   "outputs": [],
   "source": []
  },
  {
   "cell_type": "code",
   "execution_count": 18,
   "metadata": {},
   "outputs": [
    {
     "data": {
      "text/plain": [
       "array([[ 0.00283978, -1.91162187, -0.21725249, -0.37713679, -0.06122742,\n",
       "        -0.01857572,  0.60641616]])"
      ]
     },
     "execution_count": 18,
     "metadata": {},
     "output_type": "execute_result"
    }
   ],
   "source": [
    "model.coef_"
   ]
  },
  {
   "cell_type": "code",
   "execution_count": 19,
   "metadata": {},
   "outputs": [
    {
     "data": {
      "text/plain": [
       "array([ 0.21884011])"
      ]
     },
     "execution_count": 19,
     "metadata": {},
     "output_type": "execute_result"
    }
   ],
   "source": [
    "model.intercept_"
   ]
  },
  {
   "cell_type": "code",
   "execution_count": 20,
   "metadata": {},
   "outputs": [],
   "source": [
    "newX=test.iloc[:,[2,3,4,5,6,7,10]]"
   ]
  },
  {
   "cell_type": "code",
   "execution_count": 21,
   "metadata": {},
   "outputs": [
    {
     "data": {
      "text/plain": [
       "array([0, 0, 0, 0, 0, 0, 0, 0, 0, 0, 0, 0, 0, 0, 0, 0, 0, 0, 0, 0, 0, 0, 0,\n",
       "       0, 0, 0, 0, 0, 0, 0, 0, 0, 0, 0, 0, 0, 0, 0, 0, 0, 0, 0, 0, 0, 0, 0,\n",
       "       0, 0, 0, 0, 0, 0, 0, 0, 0, 0, 0], dtype=uint8)"
      ]
     },
     "execution_count": 21,
     "metadata": {},
     "output_type": "execute_result"
    }
   ],
   "source": [
    "model.predict(newX)"
   ]
  },
  {
   "cell_type": "code",
   "execution_count": 22,
   "metadata": {},
   "outputs": [
    {
     "name": "stdout",
     "output_type": "stream",
     "text": [
      "[0 1]\n",
      "[[  8.02602577e-01   1.97397423e-01]\n",
      " [  7.51355128e-01   2.48644872e-01]\n",
      " [  7.42962557e-01   2.57037443e-01]\n",
      " [  9.13566955e-01   8.64330450e-02]\n",
      " [  7.45835724e-01   2.54164276e-01]\n",
      " [  9.20464068e-01   7.95359321e-02]\n",
      " [  8.78332597e-01   1.21667403e-01]\n",
      " [  8.13036465e-01   1.86963535e-01]\n",
      " [  9.20636115e-01   7.93638849e-02]\n",
      " [  8.53420693e-01   1.46579307e-01]\n",
      " [  9.40665535e-01   5.93344650e-02]\n",
      " [  8.23415391e-01   1.76584609e-01]\n",
      " [  7.32691205e-01   2.67308795e-01]\n",
      " [  9.60047260e-01   3.99527402e-02]\n",
      " [  1.00000000e+00   2.55042000e-12]\n",
      " [  8.41927332e-01   1.58072668e-01]\n",
      " [  6.77794152e-01   3.22205848e-01]\n",
      " [  9.55028835e-01   4.49711647e-02]\n",
      " [  8.21541782e-01   1.78458218e-01]\n",
      " [  7.69760149e-01   2.30239851e-01]\n",
      " [  5.60144287e-01   4.39855713e-01]\n",
      " [  7.66137397e-01   2.33862603e-01]\n",
      " [  8.90977088e-01   1.09022912e-01]\n",
      " [  9.55081447e-01   4.49185527e-02]\n",
      " [  9.61429353e-01   3.85706467e-02]\n",
      " [  9.12421161e-01   8.75788395e-02]\n",
      " [  6.94264753e-01   3.05735247e-01]\n",
      " [  7.21663278e-01   2.78336722e-01]\n",
      " [  7.20976529e-01   2.79023471e-01]\n",
      " [  8.25380742e-01   1.74619258e-01]\n",
      " [  8.60419332e-01   1.39580668e-01]\n",
      " [  9.14155852e-01   8.58441475e-02]\n",
      " [  7.04963046e-01   2.95036954e-01]\n",
      " [  8.68531526e-01   1.31468474e-01]\n",
      " [  7.95581703e-01   2.04418297e-01]\n",
      " [  9.29568288e-01   7.04317121e-02]\n",
      " [  6.06236692e-01   3.93763308e-01]\n",
      " [  5.50054605e-01   4.49945395e-01]\n",
      " [  9.12509072e-01   8.74909281e-02]\n",
      " [  7.32745771e-01   2.67254229e-01]\n",
      " [  9.75152449e-01   2.48475513e-02]\n",
      " [  9.16985515e-01   8.30144851e-02]\n",
      " [  7.14520042e-01   2.85479958e-01]\n",
      " [  9.10195113e-01   8.98048872e-02]\n",
      " [  6.49427230e-01   3.50572770e-01]\n",
      " [  9.55880590e-01   4.41194095e-02]\n",
      " [  8.47382616e-01   1.52617384e-01]\n",
      " [  8.91950265e-01   1.08049735e-01]\n",
      " [  8.88383353e-01   1.11616647e-01]\n",
      " [  5.84786146e-01   4.15213854e-01]\n",
      " [  5.71006090e-01   4.28993910e-01]\n",
      " [  6.43512556e-01   3.56487444e-01]\n",
      " [  7.18449310e-01   2.81550690e-01]\n",
      " [  9.37181148e-01   6.28188516e-02]\n",
      " [  6.67945721e-01   3.32054279e-01]\n",
      " [  7.36221907e-01   2.63778093e-01]\n",
      " [  9.23123868e-01   7.68761324e-02]]\n"
     ]
    }
   ],
   "source": [
    "print(model.classes_)\n",
    "print(model.predict_proba(newX))\n",
    "k=model.predict_proba(newX)"
   ]
  },
  {
   "cell_type": "code",
   "execution_count": 33,
   "metadata": {},
   "outputs": [
    {
     "name": "stdout",
     "output_type": "stream",
     "text": [
      "0.05\n",
      "[[ 7 44]\n",
      " [ 0  6]]\n",
      "0.1\n",
      "[[19 32]\n",
      " [ 0  6]]\n",
      "0.15\n",
      "[[26 25]\n",
      " [ 0  6]]\n",
      "0.2\n",
      "[[31 20]\n",
      " [ 2  4]]\n",
      "0.25\n",
      "[[35 16]\n",
      " [ 2  4]]\n",
      "0.3\n",
      "[[44  7]\n",
      " [ 3  3]]\n",
      "0.35\n",
      "[[46  5]\n",
      " [ 4  2]]\n",
      "0.4\n",
      "[[49  2]\n",
      " [ 4  2]]\n",
      "0.45\n",
      "[[51  0]\n",
      " [ 6  0]]\n",
      "0.5\n",
      "[[51  0]\n",
      " [ 6  0]]\n"
     ]
    }
   ],
   "source": [
    "probalist = [0.05,0.1,0.15,0.2,0.25,0.3,0.35,0.4,0.45,0.5]\n",
    "for i in probalist:\n",
    "    k=model.predict_proba(newX)\n",
    "    k=pd.DataFrame(k)\n",
    "    indx = [] \n",
    "    for j in k.iloc[:,1]:\n",
    "        if j > i:\n",
    "            indx.append(1)\n",
    "        else:\n",
    "            indx.append(0)\n",
    "    indx = pd.Series(indx)\n",
    "    pred_class=model.classes_[indx]\n",
    "    newy=test[\"PHA_dummies\"]\n",
    "    con=confusion_matrix(newy,pred_class)\n",
    "    print(i)\n",
    "    print(con)\n",
    "#By observation its clear that the default .5 probability threshold is too high.\n",
    "#Ideal range is .2 to .3, since lower and higher results in very small sensitivity"
   ]
  },
  {
   "cell_type": "code",
   "execution_count": 42,
   "metadata": {},
   "outputs": [
    {
     "name": "stdout",
     "output_type": "stream",
     "text": [
      "Probability threshold:  0.2\n",
      "Balanced Accuracy:  0.6372549019607843\n"
     ]
    }
   ],
   "source": [
    "#balanced accuracy for .2, .25, and .3\n",
    "print('Probability threshold: ',.2)\n",
    "sens= 4/6\n",
    "spec = 31/51\n",
    "bal = (sens+spec)/2\n",
    "print(\"Balanced Accuracy: \", bal)"
   ]
  },
  {
   "cell_type": "code",
   "execution_count": 43,
   "metadata": {},
   "outputs": [
    {
     "name": "stdout",
     "output_type": "stream",
     "text": [
      "Probability threshold 0.25\n",
      "Balanced Accuracy:  0.6764705882352942\n"
     ]
    }
   ],
   "source": [
    "print('Probability threshold',.25)\n",
    "sens= 4/6\n",
    "spec = 35/51\n",
    "bal = (sens+spec)/2\n",
    "print(\"Balanced Accuracy: \",bal)"
   ]
  },
  {
   "cell_type": "code",
   "execution_count": 44,
   "metadata": {},
   "outputs": [
    {
     "name": "stdout",
     "output_type": "stream",
     "text": [
      "Probability threshold 0.25\n",
      "Balanced Accuracy:  0.6813725490196079\n"
     ]
    }
   ],
   "source": [
    "print('Probability threshold',.25)\n",
    "sens= 3/6\n",
    "spec = 44/51\n",
    "bal = (sens+spec)/2\n",
    "print(\"Balanced Accuracy: \",bal)"
   ]
  },
  {
   "cell_type": "code",
   "execution_count": 45,
   "metadata": {},
   "outputs": [
    {
     "name": "stdout",
     "output_type": "stream",
     "text": [
      "0.25\n",
      "[[35 16]\n",
      " [ 2  4]]\n",
      "0.26\n",
      "[[37 14]\n",
      " [ 2  4]]\n",
      "0.27\n",
      "[[40 11]\n",
      " [ 2  4]]\n",
      "0.28\n",
      "[[42  9]\n",
      " [ 2  4]]\n",
      "0.29\n",
      "[[43  8]\n",
      " [ 3  3]]\n",
      "0.3\n",
      "[[44  7]\n",
      " [ 3  3]]\n"
     ]
    }
   ],
   "source": [
    "#Now repeat earlier loop, but smaller increments from .25 to .3\n",
    "probalist = [.25,.26,.27,.28,.29,.3]\n",
    "for i in probalist:\n",
    "    k=model.predict_proba(newX)\n",
    "    k=pd.DataFrame(k)\n",
    "    indx = [] \n",
    "    for j in k.iloc[:,1]:\n",
    "        if j > i:\n",
    "            indx.append(1)\n",
    "        else:\n",
    "            indx.append(0)\n",
    "    indx = pd.Series(indx)\n",
    "    pred_class=model.classes_[indx]\n",
    "    newy=test[\"PHA_dummies\"]\n",
    "    con=confusion_matrix(newy,pred_class)\n",
    "    print(i)\n",
    "    print(con)\n",
    "#It is clear that .25-3 is the ideal probability threshold range, and in this\n",
    "#case .28 has the highest balanced accuracy"
   ]
  },
  {
   "cell_type": "code",
   "execution_count": 46,
   "metadata": {},
   "outputs": [
    {
     "name": "stdout",
     "output_type": "stream",
     "text": [
      "Probability threshold 0.25\n",
      "Balanced Accuracy:  0.7450980392156863\n"
     ]
    }
   ],
   "source": [
    "print('Probability threshold',.25)\n",
    "sens= 4/6\n",
    "spec = 42/51\n",
    "bal = (sens+spec)/2\n",
    "print(\"Balanced Accuracy: \",bal)"
   ]
  },
  {
   "cell_type": "code",
   "execution_count": null,
   "metadata": {
    "collapsed": true
   },
   "outputs": [],
   "source": []
  }
 ],
 "metadata": {
  "anaconda-cloud": {},
  "kernelspec": {
   "display_name": "Python 3",
   "language": "python",
   "name": "python3"
  },
  "language_info": {
   "codemirror_mode": {
    "name": "ipython",
    "version": 3
   },
   "file_extension": ".py",
   "mimetype": "text/x-python",
   "name": "python",
   "nbconvert_exporter": "python",
   "pygments_lexer": "ipython3",
   "version": "3.5.3"
  }
 },
 "nbformat": 4,
 "nbformat_minor": 1
}
