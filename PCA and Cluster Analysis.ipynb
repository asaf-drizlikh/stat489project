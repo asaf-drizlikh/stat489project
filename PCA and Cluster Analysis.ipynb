{
 "cells": [
  {
   "cell_type": "code",
   "execution_count": 41,
   "metadata": {
    "collapsed": false
   },
   "outputs": [],
   "source": [
    "import csv\n",
    "import numpy as np\n",
    "import pandas as pd\n",
    "import matplotlib.pyplot as pp\n",
    "import datetime\n",
    "%matplotlib inline\n",
    "from sklearn.decomposition import PCA\n",
    "from scipy.cluster.vq import kmeans, kmeans2\n",
    "from scipy.cluster.hierarchy import dendrogram, linkage\n",
    "from scipy.cluster.hierarchy import cophenet\n",
    "from scipy.spatial.distance import pdist\n",
    "import fastcluster"
   ]
  },
  {
   "cell_type": "code",
   "execution_count": 37,
   "metadata": {
    "collapsed": true
   },
   "outputs": [],
   "source": [
    "import Comet_Removal\n",
    "%run Comet_Removal"
   ]
  },
  {
   "cell_type": "code",
   "execution_count": 38,
   "metadata": {
    "collapsed": false
   },
   "outputs": [
    {
     "data": {
      "text/html": [
       "<div>\n",
       "<table border=\"1\" class=\"dataframe\">\n",
       "  <thead>\n",
       "    <tr style=\"text-align: right;\">\n",
       "      <th></th>\n",
       "      <th>Designation</th>\n",
       "      <th>Discovery Date YYYY-MM-DD</th>\n",
       "      <th>H (mag)</th>\n",
       "      <th>MOID (AU)</th>\n",
       "      <th>q (AU)</th>\n",
       "      <th>Q (AU)</th>\n",
       "      <th>period (yr)</th>\n",
       "      <th>i (deg)</th>\n",
       "      <th>PHA</th>\n",
       "      <th>Orbit Class</th>\n",
       "    </tr>\n",
       "  </thead>\n",
       "  <tbody>\n",
       "    <tr>\n",
       "      <th>0</th>\n",
       "      <td>419880 (2011 AH37)</td>\n",
       "      <td>01/07/2011</td>\n",
       "      <td>-0.402246</td>\n",
       "      <td>-0.768113</td>\n",
       "      <td>-0.182201</td>\n",
       "      <td>0.278564</td>\n",
       "      <td>0.070213</td>\n",
       "      <td>-1.059432</td>\n",
       "      <td>Y</td>\n",
       "      <td>Apollo</td>\n",
       "    </tr>\n",
       "    <tr>\n",
       "      <th>1</th>\n",
       "      <td>419624 (2010 SO16)</td>\n",
       "      <td>09/17/2010</td>\n",
       "      <td>0.124860</td>\n",
       "      <td>-0.810632</td>\n",
       "      <td>0.185133</td>\n",
       "      <td>-0.722908</td>\n",
       "      <td>-0.346462</td>\n",
       "      <td>-0.696463</td>\n",
       "      <td>Y</td>\n",
       "      <td>Apollo</td>\n",
       "    </tr>\n",
       "    <tr>\n",
       "      <th>2</th>\n",
       "      <td>414772 (2010 OC103)</td>\n",
       "      <td>07/28/2010</td>\n",
       "      <td>-0.863463</td>\n",
       "      <td>1.042010</td>\n",
       "      <td>-2.018870</td>\n",
       "      <td>-0.433174</td>\n",
       "      <td>-0.304249</td>\n",
       "      <td>-0.056236</td>\n",
       "      <td>N</td>\n",
       "      <td>Apollo</td>\n",
       "    </tr>\n",
       "    <tr>\n",
       "      <th>3</th>\n",
       "      <td>414746 (2010 EH20)</td>\n",
       "      <td>03/06/2010</td>\n",
       "      <td>-1.522345</td>\n",
       "      <td>0.647185</td>\n",
       "      <td>1.491208</td>\n",
       "      <td>0.193533</td>\n",
       "      <td>0.094723</td>\n",
       "      <td>0.001898</td>\n",
       "      <td>N</td>\n",
       "      <td>Amor</td>\n",
       "    </tr>\n",
       "    <tr>\n",
       "      <th>4</th>\n",
       "      <td>407324 (2010 OB101)</td>\n",
       "      <td>07/18/2010</td>\n",
       "      <td>0.256636</td>\n",
       "      <td>-0.306470</td>\n",
       "      <td>-0.467905</td>\n",
       "      <td>-0.288307</td>\n",
       "      <td>-0.202123</td>\n",
       "      <td>-1.098934</td>\n",
       "      <td>N</td>\n",
       "      <td>Apollo</td>\n",
       "    </tr>\n",
       "  </tbody>\n",
       "</table>\n",
       "</div>"
      ],
      "text/plain": [
       "           Designation Discovery Date YYYY-MM-DD   H (mag)  MOID (AU)  \\\n",
       "0   419880 (2011 AH37)                01/07/2011 -0.402246  -0.768113   \n",
       "1   419624 (2010 SO16)                09/17/2010  0.124860  -0.810632   \n",
       "2  414772 (2010 OC103)                07/28/2010 -0.863463   1.042010   \n",
       "3   414746 (2010 EH20)                03/06/2010 -1.522345   0.647185   \n",
       "4  407324 (2010 OB101)                07/18/2010  0.256636  -0.306470   \n",
       "\n",
       "     q (AU)    Q (AU)  period (yr)   i (deg) PHA Orbit Class  \n",
       "0 -0.182201  0.278564     0.070213 -1.059432   Y      Apollo  \n",
       "1  0.185133 -0.722908    -0.346462 -0.696463   Y      Apollo  \n",
       "2 -2.018870 -0.433174    -0.304249 -0.056236   N      Apollo  \n",
       "3  1.491208  0.193533     0.094723  0.001898   N        Amor  \n",
       "4 -0.467905 -0.288307    -0.202123 -1.098934   N      Apollo  "
      ]
     },
     "execution_count": 38,
     "metadata": {},
     "output_type": "execute_result"
    }
   ],
   "source": [
    "def standardization(x):\n",
    "    x_bar = np.mean(x)\n",
    "    s = np.std(x)\n",
    "    x_z = (x - x_bar) / s\n",
    "    return(x_z)\n",
    "data_stnd = data\n",
    "data_stnd.iloc[:,2:8]= data.iloc[:,2:8].apply(standardization, broadcast = True)\n",
    "data_stnd.head()"
   ]
  },
  {
   "cell_type": "markdown",
   "metadata": {},
   "source": [
    "#PCA"
   ]
  },
  {
   "cell_type": "code",
   "execution_count": 29,
   "metadata": {
    "collapsed": false
   },
   "outputs": [
    {
     "data": {
      "text/html": [
       "<div>\n",
       "<table border=\"1\" class=\"dataframe\">\n",
       "  <thead>\n",
       "    <tr style=\"text-align: right;\">\n",
       "      <th></th>\n",
       "      <th>H (mag)</th>\n",
       "      <th>MOID (AU)</th>\n",
       "      <th>q (AU)</th>\n",
       "      <th>Q (AU)</th>\n",
       "      <th>period (yr)</th>\n",
       "      <th>i (deg)</th>\n",
       "    </tr>\n",
       "  </thead>\n",
       "  <tbody>\n",
       "    <tr>\n",
       "      <th>0</th>\n",
       "      <td>-0.402246</td>\n",
       "      <td>-0.768113</td>\n",
       "      <td>-0.182201</td>\n",
       "      <td>0.278564</td>\n",
       "      <td>0.070213</td>\n",
       "      <td>-1.059432</td>\n",
       "    </tr>\n",
       "    <tr>\n",
       "      <th>1</th>\n",
       "      <td>0.124860</td>\n",
       "      <td>-0.810632</td>\n",
       "      <td>0.185133</td>\n",
       "      <td>-0.722908</td>\n",
       "      <td>-0.346462</td>\n",
       "      <td>-0.696463</td>\n",
       "    </tr>\n",
       "    <tr>\n",
       "      <th>2</th>\n",
       "      <td>-0.863463</td>\n",
       "      <td>1.042010</td>\n",
       "      <td>-2.018870</td>\n",
       "      <td>-0.433174</td>\n",
       "      <td>-0.304249</td>\n",
       "      <td>-0.056236</td>\n",
       "    </tr>\n",
       "    <tr>\n",
       "      <th>3</th>\n",
       "      <td>-1.522345</td>\n",
       "      <td>0.647185</td>\n",
       "      <td>1.491208</td>\n",
       "      <td>0.193533</td>\n",
       "      <td>0.094723</td>\n",
       "      <td>0.001898</td>\n",
       "    </tr>\n",
       "    <tr>\n",
       "      <th>4</th>\n",
       "      <td>0.256636</td>\n",
       "      <td>-0.306470</td>\n",
       "      <td>-0.467905</td>\n",
       "      <td>-0.288307</td>\n",
       "      <td>-0.202123</td>\n",
       "      <td>-1.098934</td>\n",
       "    </tr>\n",
       "  </tbody>\n",
       "</table>\n",
       "</div>"
      ],
      "text/plain": [
       "    H (mag)  MOID (AU)    q (AU)    Q (AU)  period (yr)   i (deg)\n",
       "0 -0.402246  -0.768113 -0.182201  0.278564     0.070213 -1.059432\n",
       "1  0.124860  -0.810632  0.185133 -0.722908    -0.346462 -0.696463\n",
       "2 -0.863463   1.042010 -2.018870 -0.433174    -0.304249 -0.056236\n",
       "3 -1.522345   0.647185  1.491208  0.193533     0.094723  0.001898\n",
       "4  0.256636  -0.306470 -0.467905 -0.288307    -0.202123 -1.098934"
      ]
     },
     "execution_count": 29,
     "metadata": {},
     "output_type": "execute_result"
    }
   ],
   "source": [
    "pca_df = data_stnd.iloc[:,2:8]\n",
    "pca_df.head()"
   ]
  },
  {
   "cell_type": "code",
   "execution_count": 31,
   "metadata": {
    "collapsed": false
   },
   "outputs": [
    {
     "name": "stdout",
     "output_type": "stream",
     "text": [
      "[ 0.50011939  0.20566159  0.15284768  0.08568378  0.0512964   0.00439117]\n"
     ]
    }
   ],
   "source": [
    "RR = pca_df.corr()\n",
    "eigen_RR = np.linalg.eig(RR)\n",
    "print(eigen_RR[0] / sum(eigen_RR[0]))\n",
    "PCs = np.dot(pca_df, eigen_RR[1][:, :2])\n",
    "PC1 = PCs[:, 0]\n",
    "PC2 = PCs[:, 1]"
   ]
  },
  {
   "cell_type": "code",
   "execution_count": 33,
   "metadata": {
    "collapsed": false
   },
   "outputs": [
    {
     "data": {
      "text/plain": [
       "<matplotlib.text.Text at 0x7f7733366bd0>"
      ]
     },
     "execution_count": 33,
     "metadata": {},
     "output_type": "execute_result"
    },
    {
     "data": {
      "image/png": "[encoded data removed]",
      "text/plain": [
       "<matplotlib.figure.Figure at 0x7f77334b8290>"
      ]
     },
     "metadata": {},
     "output_type": "display_data"
    }
   ],
   "source": [
    "pp.scatter(PC1, PC2)\n",
    "pp.xlabel('PC1')\n",
    "pp.ylabel('PC2')"
   ]
  },
  {
   "cell_type": "markdown",
   "metadata": {},
   "source": [
    "#Cluster Analysis"
   ]
  },
  {
   "cell_type": "code",
   "execution_count": 39,
   "metadata": {
    "collapsed": false
   },
   "outputs": [
    {
     "data": {
      "text/html": [
       "<div>\n",
       "<table border=\"1\" class=\"dataframe\">\n",
       "  <thead>\n",
       "    <tr style=\"text-align: right;\">\n",
       "      <th></th>\n",
       "      <th>H (mag)</th>\n",
       "      <th>MOID (AU)</th>\n",
       "      <th>q (AU)</th>\n",
       "      <th>Q (AU)</th>\n",
       "      <th>period (yr)</th>\n",
       "      <th>i (deg)</th>\n",
       "    </tr>\n",
       "  </thead>\n",
       "  <tbody>\n",
       "    <tr>\n",
       "      <th>0</th>\n",
       "      <td>-0.402246</td>\n",
       "      <td>-0.768113</td>\n",
       "      <td>-0.182201</td>\n",
       "      <td>0.278564</td>\n",
       "      <td>0.070213</td>\n",
       "      <td>-1.059432</td>\n",
       "    </tr>\n",
       "    <tr>\n",
       "      <th>1</th>\n",
       "      <td>0.124860</td>\n",
       "      <td>-0.810632</td>\n",
       "      <td>0.185133</td>\n",
       "      <td>-0.722908</td>\n",
       "      <td>-0.346462</td>\n",
       "      <td>-0.696463</td>\n",
       "    </tr>\n",
       "    <tr>\n",
       "      <th>2</th>\n",
       "      <td>-0.863463</td>\n",
       "      <td>1.042010</td>\n",
       "      <td>-2.018870</td>\n",
       "      <td>-0.433174</td>\n",
       "      <td>-0.304249</td>\n",
       "      <td>-0.056236</td>\n",
       "    </tr>\n",
       "    <tr>\n",
       "      <th>3</th>\n",
       "      <td>-1.522345</td>\n",
       "      <td>0.647185</td>\n",
       "      <td>1.491208</td>\n",
       "      <td>0.193533</td>\n",
       "      <td>0.094723</td>\n",
       "      <td>0.001898</td>\n",
       "    </tr>\n",
       "    <tr>\n",
       "      <th>4</th>\n",
       "      <td>0.256636</td>\n",
       "      <td>-0.306470</td>\n",
       "      <td>-0.467905</td>\n",
       "      <td>-0.288307</td>\n",
       "      <td>-0.202123</td>\n",
       "      <td>-1.098934</td>\n",
       "    </tr>\n",
       "  </tbody>\n",
       "</table>\n",
       "</div>"
      ],
      "text/plain": [
       "    H (mag)  MOID (AU)    q (AU)    Q (AU)  period (yr)   i (deg)\n",
       "0 -0.402246  -0.768113 -0.182201  0.278564     0.070213 -1.059432\n",
       "1  0.124860  -0.810632  0.185133 -0.722908    -0.346462 -0.696463\n",
       "2 -0.863463   1.042010 -2.018870 -0.433174    -0.304249 -0.056236\n",
       "3 -1.522345   0.647185  1.491208  0.193533     0.094723  0.001898\n",
       "4  0.256636  -0.306470 -0.467905 -0.288307    -0.202123 -1.098934"
      ]
     },
     "execution_count": 39,
     "metadata": {},
     "output_type": "execute_result"
    }
   ],
   "source": [
    "df = data_stnd.iloc[:,2:8]\n",
    "df.head()"
   ]
  },
  {
   "cell_type": "code",
   "execution_count": 42,
   "metadata": {
    "collapsed": false
   },
   "outputs": [
    {
     "data": {
      "image/png": "[encoded data removed]",
      "text/plain": [
       "<matplotlib.figure.Figure at 0x7f7745c8f090>"
      ]
     },
     "metadata": {},
     "output_type": "display_data"
    }
   ],
   "source": [
    "score = []\n",
    "cluster_array = [kmeans(df, i) for i in range(1,10)]\n",
    "pp.plot([var for (array,var) in cluster_array])\n",
    "pp.show()"
   ]
  },
  {
   "cell_type": "code",
   "execution_count": 43,
   "metadata": {
    "collapsed": false,
    "scrolled": true
   },
   "outputs": [
    {
     "data": {
      "text/plain": [
       "<matplotlib.collections.PathCollection at 0x7f7732b0f3d0>"
      ]
     },
     "execution_count": 43,
     "metadata": {},
     "output_type": "execute_result"
    },
    {
     "data": {
      "image/png": "[encoded data removed]",
      "text/plain": [
       "<matplotlib.figure.Figure at 0x7f7733256690>"
      ]
     },
     "metadata": {},
     "output_type": "display_data"
    }
   ],
   "source": [
    "kmeans2(df, 2)\n",
    "pp.scatter(PCs[:, 0], PCs[:, 1], c = kmeans2(df,2)[1], cmap = 'bwr')"
   ]
  },
  {
   "cell_type": "code",
   "execution_count": 52,
   "metadata": {
    "collapsed": false,
    "scrolled": true
   },
   "outputs": [],
   "source": [
    "Z = fastcluster.linkage(df, method='single', metric='euclidean', preserve_input='True')"
   ]
  },
  {
   "cell_type": "code",
   "execution_count": 53,
   "metadata": {
    "collapsed": false
   },
   "outputs": [
    {
     "data": {
      "image/png": "[encoded data removed]",
      "text/plain": [
       "<matplotlib.figure.Figure at 0x7f7732106b50>"
      ]
     },
     "metadata": {},
     "output_type": "display_data"
    }
   ],
   "source": [
    "pp.figure()\n",
    "dendrogram(Z,==leaf_rotation=90, leaf_font_size=1)\n",
    "pp.show()"
   ]
  },
  {
   "cell_type": "code",
   "execution_count": null,
   "metadata": {
    "collapsed": true
   },
   "outputs": [],
   "source": []
  }
 ],
 "metadata": {
  "kernelspec": {
   "display_name": "Python 2",
   "language": "python",
   "name": "python2"
  },
  "language_info": {
   "codemirror_mode": {
    "name": "ipython",
    "version": 2
   },
   "file_extension": ".py",
   "mimetype": "text/x-python",
   "name": "python",
   "nbconvert_exporter": "python",
   "pygments_lexer": "ipython2",
   "version": "2.7.13"
  }
 },
 "nbformat": 4,
 "nbformat_minor": 0
}
