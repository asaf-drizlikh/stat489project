{
 "cells": [
  {
   "cell_type": "code",
   "execution_count": 18,
   "metadata": {
    "collapsed": false
   },
   "outputs": [],
   "source": [
    "import csv\n",
    "import numpy as np\n",
    "import pandas as pd\n",
    "import matplotlib.pyplot as pp\n",
    "import datetime\n",
    "%matplotlib inline\n",
    "from sklearn.decomposition import PCA\n",
    "import mca"
   ]
  },
  {
   "cell_type": "code",
   "execution_count": 19,
   "metadata": {
    "collapsed": false
   },
   "outputs": [],
   "source": [
    "data = pd.read_csv(\"WISE_NEA_COMET_DISCOVERY_STATISTICS.csv\")"
   ]
  },
  {
   "cell_type": "code",
   "execution_count": 20,
   "metadata": {
    "collapsed": false
   },
   "outputs": [
    {
     "data": {
      "text/html": [
       "<div>\n",
       "<table border=\"1\" class=\"dataframe\">\n",
       "  <thead>\n",
       "    <tr style=\"text-align: right;\">\n",
       "      <th></th>\n",
       "      <th>Designation</th>\n",
       "      <th>Discovery Date YYYY-MM-DD</th>\n",
       "      <th>H (mag)</th>\n",
       "      <th>MOID (AU)</th>\n",
       "      <th>q (AU)</th>\n",
       "      <th>Q (AU)</th>\n",
       "      <th>period (yr)</th>\n",
       "      <th>i (deg)</th>\n",
       "      <th>PHA</th>\n",
       "      <th>Orbit Class</th>\n",
       "    </tr>\n",
       "  </thead>\n",
       "  <tbody>\n",
       "    <tr>\n",
       "      <th>0</th>\n",
       "      <td>419880 (2011 AH37)</td>\n",
       "      <td>01/07/2011</td>\n",
       "      <td>19.7</td>\n",
       "      <td>0.035</td>\n",
       "      <td>0.84</td>\n",
       "      <td>4.26</td>\n",
       "      <td>4.06</td>\n",
       "      <td>9.65</td>\n",
       "      <td>Y</td>\n",
       "      <td>Apollo</td>\n",
       "    </tr>\n",
       "    <tr>\n",
       "      <th>1</th>\n",
       "      <td>419624 (2010 SO16)</td>\n",
       "      <td>09/17/2010</td>\n",
       "      <td>20.5</td>\n",
       "      <td>0.028</td>\n",
       "      <td>0.93</td>\n",
       "      <td>1.08</td>\n",
       "      <td>1.00</td>\n",
       "      <td>14.52</td>\n",
       "      <td>Y</td>\n",
       "      <td>Apollo</td>\n",
       "    </tr>\n",
       "    <tr>\n",
       "      <th>2</th>\n",
       "      <td>414772 (2010 OC103)</td>\n",
       "      <td>07/28/2010</td>\n",
       "      <td>19.0</td>\n",
       "      <td>0.333</td>\n",
       "      <td>0.39</td>\n",
       "      <td>2.00</td>\n",
       "      <td>1.31</td>\n",
       "      <td>23.11</td>\n",
       "      <td>N</td>\n",
       "      <td>Apollo</td>\n",
       "    </tr>\n",
       "    <tr>\n",
       "      <th>3</th>\n",
       "      <td>414746 (2010 EH20)</td>\n",
       "      <td>03/06/2010</td>\n",
       "      <td>18.0</td>\n",
       "      <td>0.268</td>\n",
       "      <td>1.25</td>\n",
       "      <td>3.99</td>\n",
       "      <td>4.24</td>\n",
       "      <td>23.89</td>\n",
       "      <td>N</td>\n",
       "      <td>Amor</td>\n",
       "    </tr>\n",
       "    <tr>\n",
       "      <th>4</th>\n",
       "      <td>407324 (2010 OB101)</td>\n",
       "      <td>07/18/2010</td>\n",
       "      <td>20.7</td>\n",
       "      <td>0.111</td>\n",
       "      <td>0.77</td>\n",
       "      <td>2.46</td>\n",
       "      <td>2.06</td>\n",
       "      <td>9.12</td>\n",
       "      <td>N</td>\n",
       "      <td>Apollo</td>\n",
       "    </tr>\n",
       "  </tbody>\n",
       "</table>\n",
       "</div>"
      ],
      "text/plain": [
       "           Designation Discovery Date YYYY-MM-DD  H (mag)  MOID (AU)  q (AU)  \\\n",
       "0   419880 (2011 AH37)                01/07/2011     19.7      0.035    0.84   \n",
       "1   419624 (2010 SO16)                09/17/2010     20.5      0.028    0.93   \n",
       "2  414772 (2010 OC103)                07/28/2010     19.0      0.333    0.39   \n",
       "3   414746 (2010 EH20)                03/06/2010     18.0      0.268    1.25   \n",
       "4  407324 (2010 OB101)                07/18/2010     20.7      0.111    0.77   \n",
       "\n",
       "   Q (AU)  period (yr)  i (deg) PHA Orbit Class  \n",
       "0    4.26         4.06     9.65   Y      Apollo  \n",
       "1    1.08         1.00    14.52   Y      Apollo  \n",
       "2    2.00         1.31    23.11   N      Apollo  \n",
       "3    3.99         4.24    23.89   N        Amor  \n",
       "4    2.46         2.06     9.12   N      Apollo  "
      ]
     },
     "execution_count": 20,
     "metadata": {},
     "output_type": "execute_result"
    }
   ],
   "source": [
    "data.head()"
   ]
  },
  {
   "cell_type": "code",
   "execution_count": 21,
   "metadata": {
    "collapsed": false
   },
   "outputs": [
    {
     "data": {
      "text/html": [
       "<div>\n",
       "<table border=\"1\" class=\"dataframe\">\n",
       "  <thead>\n",
       "    <tr style=\"text-align: right;\">\n",
       "      <th></th>\n",
       "      <th>Designation</th>\n",
       "      <th>Discovery Date YYYY-MM-DD</th>\n",
       "      <th>H (mag)</th>\n",
       "      <th>MOID (AU)</th>\n",
       "      <th>q (AU)</th>\n",
       "      <th>Q (AU)</th>\n",
       "      <th>period (yr)</th>\n",
       "      <th>i (deg)</th>\n",
       "      <th>PHA</th>\n",
       "      <th>Orbit Class</th>\n",
       "      <th>Year</th>\n",
       "      <th>Month</th>\n",
       "      <th>Day</th>\n",
       "    </tr>\n",
       "  </thead>\n",
       "  <tbody>\n",
       "    <tr>\n",
       "      <th>0</th>\n",
       "      <td>419880 (2011 AH37)</td>\n",
       "      <td>01/07/2011</td>\n",
       "      <td>19.7</td>\n",
       "      <td>0.035</td>\n",
       "      <td>0.84</td>\n",
       "      <td>4.26</td>\n",
       "      <td>4.06</td>\n",
       "      <td>9.65</td>\n",
       "      <td>Y</td>\n",
       "      <td>Apollo</td>\n",
       "      <td>2011</td>\n",
       "      <td>1</td>\n",
       "      <td>7</td>\n",
       "    </tr>\n",
       "    <tr>\n",
       "      <th>1</th>\n",
       "      <td>419624 (2010 SO16)</td>\n",
       "      <td>09/17/2010</td>\n",
       "      <td>20.5</td>\n",
       "      <td>0.028</td>\n",
       "      <td>0.93</td>\n",
       "      <td>1.08</td>\n",
       "      <td>1.00</td>\n",
       "      <td>14.52</td>\n",
       "      <td>Y</td>\n",
       "      <td>Apollo</td>\n",
       "      <td>2010</td>\n",
       "      <td>9</td>\n",
       "      <td>17</td>\n",
       "    </tr>\n",
       "    <tr>\n",
       "      <th>2</th>\n",
       "      <td>414772 (2010 OC103)</td>\n",
       "      <td>07/28/2010</td>\n",
       "      <td>19.0</td>\n",
       "      <td>0.333</td>\n",
       "      <td>0.39</td>\n",
       "      <td>2.00</td>\n",
       "      <td>1.31</td>\n",
       "      <td>23.11</td>\n",
       "      <td>N</td>\n",
       "      <td>Apollo</td>\n",
       "      <td>2010</td>\n",
       "      <td>7</td>\n",
       "      <td>28</td>\n",
       "    </tr>\n",
       "    <tr>\n",
       "      <th>3</th>\n",
       "      <td>414746 (2010 EH20)</td>\n",
       "      <td>03/06/2010</td>\n",
       "      <td>18.0</td>\n",
       "      <td>0.268</td>\n",
       "      <td>1.25</td>\n",
       "      <td>3.99</td>\n",
       "      <td>4.24</td>\n",
       "      <td>23.89</td>\n",
       "      <td>N</td>\n",
       "      <td>Amor</td>\n",
       "      <td>2010</td>\n",
       "      <td>3</td>\n",
       "      <td>6</td>\n",
       "    </tr>\n",
       "    <tr>\n",
       "      <th>4</th>\n",
       "      <td>407324 (2010 OB101)</td>\n",
       "      <td>07/18/2010</td>\n",
       "      <td>20.7</td>\n",
       "      <td>0.111</td>\n",
       "      <td>0.77</td>\n",
       "      <td>2.46</td>\n",
       "      <td>2.06</td>\n",
       "      <td>9.12</td>\n",
       "      <td>N</td>\n",
       "      <td>Apollo</td>\n",
       "      <td>2010</td>\n",
       "      <td>7</td>\n",
       "      <td>18</td>\n",
       "    </tr>\n",
       "  </tbody>\n",
       "</table>\n",
       "</div>"
      ],
      "text/plain": [
       "           Designation Discovery Date YYYY-MM-DD  H (mag)  MOID (AU)  q (AU)  \\\n",
       "0   419880 (2011 AH37)                01/07/2011     19.7      0.035    0.84   \n",
       "1   419624 (2010 SO16)                09/17/2010     20.5      0.028    0.93   \n",
       "2  414772 (2010 OC103)                07/28/2010     19.0      0.333    0.39   \n",
       "3   414746 (2010 EH20)                03/06/2010     18.0      0.268    1.25   \n",
       "4  407324 (2010 OB101)                07/18/2010     20.7      0.111    0.77   \n",
       "\n",
       "   Q (AU)  period (yr)  i (deg) PHA Orbit Class  Year  Month  Day  \n",
       "0    4.26         4.06     9.65   Y      Apollo  2011      1    7  \n",
       "1    1.08         1.00    14.52   Y      Apollo  2010      9   17  \n",
       "2    2.00         1.31    23.11   N      Apollo  2010      7   28  \n",
       "3    3.99         4.24    23.89   N        Amor  2010      3    6  \n",
       "4    2.46         2.06     9.12   N      Apollo  2010      7   18  "
      ]
     },
     "execution_count": 21,
     "metadata": {},
     "output_type": "execute_result"
    }
   ],
   "source": [
    "data['Year'] = pd.DatetimeIndex(data['Discovery Date YYYY-MM-DD']).year\n",
    "data['Month'] = pd.DatetimeIndex(data['Discovery Date YYYY-MM-DD']).month\n",
    "data['Day'] = pd.DatetimeIndex(data['Discovery Date YYYY-MM-DD']).day\n",
    "data.head()"
   ]
  },
  {
   "cell_type": "code",
   "execution_count": 22,
   "metadata": {
    "collapsed": false
   },
   "outputs": [
    {
     "data": {
      "text/html": [
       "<div>\n",
       "<table border=\"1\" class=\"dataframe\">\n",
       "  <thead>\n",
       "    <tr style=\"text-align: right;\">\n",
       "      <th></th>\n",
       "      <th>Designation</th>\n",
       "      <th>Discovery Date YYYY-MM-DD</th>\n",
       "      <th>H (mag)</th>\n",
       "      <th>MOID (AU)</th>\n",
       "      <th>q (AU)</th>\n",
       "      <th>Q (AU)</th>\n",
       "      <th>period (yr)</th>\n",
       "      <th>i (deg)</th>\n",
       "      <th>PHA</th>\n",
       "      <th>Orbit Class</th>\n",
       "      <th>Year</th>\n",
       "      <th>Month</th>\n",
       "      <th>Day</th>\n",
       "    </tr>\n",
       "  </thead>\n",
       "  <tbody>\n",
       "    <tr>\n",
       "      <th>0</th>\n",
       "      <td>419880 (2011 AH37)</td>\n",
       "      <td>01/07/2011</td>\n",
       "      <td>-0.402246</td>\n",
       "      <td>-0.409585</td>\n",
       "      <td>-0.301366</td>\n",
       "      <td>-0.113559</td>\n",
       "      <td>-0.104015</td>\n",
       "      <td>-0.724401</td>\n",
       "      <td>Y</td>\n",
       "      <td>Apollo</td>\n",
       "      <td>2011</td>\n",
       "      <td>1</td>\n",
       "      <td>7</td>\n",
       "    </tr>\n",
       "    <tr>\n",
       "      <th>1</th>\n",
       "      <td>419624 (2010 SO16)</td>\n",
       "      <td>09/17/2010</td>\n",
       "      <td>0.124860</td>\n",
       "      <td>-0.419286</td>\n",
       "      <td>-0.180018</td>\n",
       "      <td>-0.115122</td>\n",
       "      <td>-0.104045</td>\n",
       "      <td>-0.545621</td>\n",
       "      <td>Y</td>\n",
       "      <td>Apollo</td>\n",
       "      <td>2010</td>\n",
       "      <td>9</td>\n",
       "      <td>17</td>\n",
       "    </tr>\n",
       "    <tr>\n",
       "      <th>2</th>\n",
       "      <td>414772 (2010 OC103)</td>\n",
       "      <td>07/28/2010</td>\n",
       "      <td>-0.863463</td>\n",
       "      <td>0.003408</td>\n",
       "      <td>-0.908102</td>\n",
       "      <td>-0.114670</td>\n",
       "      <td>-0.104042</td>\n",
       "      <td>-0.230277</td>\n",
       "      <td>N</td>\n",
       "      <td>Apollo</td>\n",
       "      <td>2010</td>\n",
       "      <td>7</td>\n",
       "      <td>28</td>\n",
       "    </tr>\n",
       "    <tr>\n",
       "      <th>3</th>\n",
       "      <td>414746 (2010 EH20)</td>\n",
       "      <td>03/06/2010</td>\n",
       "      <td>-1.522345</td>\n",
       "      <td>-0.086674</td>\n",
       "      <td>0.251438</td>\n",
       "      <td>-0.113692</td>\n",
       "      <td>-0.104013</td>\n",
       "      <td>-0.201643</td>\n",
       "      <td>N</td>\n",
       "      <td>Amor</td>\n",
       "      <td>2010</td>\n",
       "      <td>3</td>\n",
       "      <td>6</td>\n",
       "    </tr>\n",
       "    <tr>\n",
       "      <th>4</th>\n",
       "      <td>407324 (2010 OB101)</td>\n",
       "      <td>07/18/2010</td>\n",
       "      <td>0.256636</td>\n",
       "      <td>-0.304257</td>\n",
       "      <td>-0.395747</td>\n",
       "      <td>-0.114444</td>\n",
       "      <td>-0.104035</td>\n",
       "      <td>-0.743858</td>\n",
       "      <td>N</td>\n",
       "      <td>Apollo</td>\n",
       "      <td>2010</td>\n",
       "      <td>7</td>\n",
       "      <td>18</td>\n",
       "    </tr>\n",
       "  </tbody>\n",
       "</table>\n",
       "</div>"
      ],
      "text/plain": [
       "           Designation Discovery Date YYYY-MM-DD   H (mag)  MOID (AU)  \\\n",
       "0   419880 (2011 AH37)                01/07/2011 -0.402246  -0.409585   \n",
       "1   419624 (2010 SO16)                09/17/2010  0.124860  -0.419286   \n",
       "2  414772 (2010 OC103)                07/28/2010 -0.863463   0.003408   \n",
       "3   414746 (2010 EH20)                03/06/2010 -1.522345  -0.086674   \n",
       "4  407324 (2010 OB101)                07/18/2010  0.256636  -0.304257   \n",
       "\n",
       "     q (AU)    Q (AU)  period (yr)   i (deg) PHA Orbit Class  Year  Month  Day  \n",
       "0 -0.301366 -0.113559    -0.104015 -0.724401   Y      Apollo  2011      1    7  \n",
       "1 -0.180018 -0.115122    -0.104045 -0.545621   Y      Apollo  2010      9   17  \n",
       "2 -0.908102 -0.114670    -0.104042 -0.230277   N      Apollo  2010      7   28  \n",
       "3  0.251438 -0.113692    -0.104013 -0.201643   N        Amor  2010      3    6  \n",
       "4 -0.395747 -0.114444    -0.104035 -0.743858   N      Apollo  2010      7   18  "
      ]
     },
     "execution_count": 22,
     "metadata": {},
     "output_type": "execute_result"
    }
   ],
   "source": [
    "def standardization(x):\n",
    "    x_bar = np.mean(x)\n",
    "    s = np.std(x)\n",
    "    x_z = (x - x_bar) / s\n",
    "    return(x_z)\n",
    "data_stnd = data\n",
    "data_stnd.iloc[:,2:8]= data.iloc[:,2:8].apply(standardization, broadcast = True)\n",
    "data_stnd.head()"
   ]
  },
  {
   "cell_type": "markdown",
   "metadata": {},
   "source": [
    "#PCA"
   ]
  },
  {
   "cell_type": "markdown",
   "metadata": {},
   "source": [
    "###Version 1- no Datetime or categorical variables in PCA"
   ]
  },
  {
   "cell_type": "code",
   "execution_count": 23,
   "metadata": {
    "collapsed": false
   },
   "outputs": [
    {
     "data": {
      "text/html": [
       "<div>\n",
       "<table border=\"1\" class=\"dataframe\">\n",
       "  <thead>\n",
       "    <tr style=\"text-align: right;\">\n",
       "      <th></th>\n",
       "      <th>H (mag)</th>\n",
       "      <th>MOID (AU)</th>\n",
       "      <th>q (AU)</th>\n",
       "      <th>Q (AU)</th>\n",
       "      <th>period (yr)</th>\n",
       "      <th>i (deg)</th>\n",
       "    </tr>\n",
       "  </thead>\n",
       "  <tbody>\n",
       "    <tr>\n",
       "      <th>0</th>\n",
       "      <td>-0.402246</td>\n",
       "      <td>-0.409585</td>\n",
       "      <td>-0.301366</td>\n",
       "      <td>-0.113559</td>\n",
       "      <td>-0.104015</td>\n",
       "      <td>-0.724401</td>\n",
       "    </tr>\n",
       "    <tr>\n",
       "      <th>1</th>\n",
       "      <td>0.124860</td>\n",
       "      <td>-0.419286</td>\n",
       "      <td>-0.180018</td>\n",
       "      <td>-0.115122</td>\n",
       "      <td>-0.104045</td>\n",
       "      <td>-0.545621</td>\n",
       "    </tr>\n",
       "    <tr>\n",
       "      <th>2</th>\n",
       "      <td>-0.863463</td>\n",
       "      <td>0.003408</td>\n",
       "      <td>-0.908102</td>\n",
       "      <td>-0.114670</td>\n",
       "      <td>-0.104042</td>\n",
       "      <td>-0.230277</td>\n",
       "    </tr>\n",
       "    <tr>\n",
       "      <th>3</th>\n",
       "      <td>-1.522345</td>\n",
       "      <td>-0.086674</td>\n",
       "      <td>0.251438</td>\n",
       "      <td>-0.113692</td>\n",
       "      <td>-0.104013</td>\n",
       "      <td>-0.201643</td>\n",
       "    </tr>\n",
       "    <tr>\n",
       "      <th>4</th>\n",
       "      <td>0.256636</td>\n",
       "      <td>-0.304257</td>\n",
       "      <td>-0.395747</td>\n",
       "      <td>-0.114444</td>\n",
       "      <td>-0.104035</td>\n",
       "      <td>-0.743858</td>\n",
       "    </tr>\n",
       "  </tbody>\n",
       "</table>\n",
       "</div>"
      ],
      "text/plain": [
       "    H (mag)  MOID (AU)    q (AU)    Q (AU)  period (yr)   i (deg)\n",
       "0 -0.402246  -0.409585 -0.301366 -0.113559    -0.104015 -0.724401\n",
       "1  0.124860  -0.419286 -0.180018 -0.115122    -0.104045 -0.545621\n",
       "2 -0.863463   0.003408 -0.908102 -0.114670    -0.104042 -0.230277\n",
       "3 -1.522345  -0.086674  0.251438 -0.113692    -0.104013 -0.201643\n",
       "4  0.256636  -0.304257 -0.395747 -0.114444    -0.104035 -0.743858"
      ]
     },
     "execution_count": 23,
     "metadata": {},
     "output_type": "execute_result"
    }
   ],
   "source": [
    "pca_df1 = data_stnd.iloc[:,2:8]\n",
    "pca_df1.head()"
   ]
  },
  {
   "cell_type": "code",
   "execution_count": 24,
   "metadata": {
    "collapsed": false
   },
   "outputs": [
    {
     "name": "stdout",
     "output_type": "stream",
     "text": [
      "[ 0.52743239  0.22733159  0.16617089  0.08040371 -0.00292132  0.00158275]\n"
     ]
    }
   ],
   "source": [
    "RR_1 = pca_df1.corr()\n",
    "eigen_RR_1 = np.linalg.eig(RR_1)\n",
    "print(eigen_RR_1[0] / sum(eigen_RR_1[0]))\n",
    "PCs_1 = np.dot(pca_df1, eigen_RR_1[1][:, :2])"
   ]
  },
  {
   "cell_type": "code",
   "execution_count": 25,
   "metadata": {
    "collapsed": false
   },
   "outputs": [
    {
     "data": {
      "text/plain": [
       "<matplotlib.text.Text at 0x7f9b09fe6e50>"
      ]
     },
     "execution_count": 25,
     "metadata": {},
     "output_type": "execute_result"
    },
    {
     "data": {
      "image/png": "[encoded data removed]",
      "text/plain": [
       "<matplotlib.figure.Figure at 0x7f9b0a12db50>"
      ]
     },
     "metadata": {},
     "output_type": "display_data"
    }
   ],
   "source": [
    "pp.scatter(PCs_1[:, 0], PCs_1[:, 1])\n",
    "pp.xlabel('PC1')\n",
    "pp.ylabel('PC2')"
   ]
  },
  {
   "cell_type": "markdown",
   "metadata": {
    "collapsed": true
   },
   "source": [
    "###Version 4- PHA, no Datetime in PCA"
   ]
  },
  {
   "cell_type": "code",
   "execution_count": 34,
   "metadata": {
    "collapsed": false
   },
   "outputs": [
    {
     "data": {
      "text/html": [
       "<div>\n",
       "<table border=\"1\" class=\"dataframe\">\n",
       "  <thead>\n",
       "    <tr style=\"text-align: right;\">\n",
       "      <th></th>\n",
       "      <th>H (mag)</th>\n",
       "      <th>MOID (AU)</th>\n",
       "      <th>q (AU)</th>\n",
       "      <th>Q (AU)</th>\n",
       "      <th>period (yr)</th>\n",
       "      <th>i (deg)</th>\n",
       "      <th>PHA</th>\n",
       "    </tr>\n",
       "  </thead>\n",
       "  <tbody>\n",
       "    <tr>\n",
       "      <th>0</th>\n",
       "      <td>-0.402246</td>\n",
       "      <td>-0.409585</td>\n",
       "      <td>-0.301366</td>\n",
       "      <td>-0.113559</td>\n",
       "      <td>-0.104015</td>\n",
       "      <td>-0.724401</td>\n",
       "      <td>0</td>\n",
       "    </tr>\n",
       "    <tr>\n",
       "      <th>1</th>\n",
       "      <td>0.124860</td>\n",
       "      <td>-0.419286</td>\n",
       "      <td>-0.180018</td>\n",
       "      <td>-0.115122</td>\n",
       "      <td>-0.104045</td>\n",
       "      <td>-0.545621</td>\n",
       "      <td>0</td>\n",
       "    </tr>\n",
       "    <tr>\n",
       "      <th>2</th>\n",
       "      <td>-0.863463</td>\n",
       "      <td>0.003408</td>\n",
       "      <td>-0.908102</td>\n",
       "      <td>-0.114670</td>\n",
       "      <td>-0.104042</td>\n",
       "      <td>-0.230277</td>\n",
       "      <td>1</td>\n",
       "    </tr>\n",
       "    <tr>\n",
       "      <th>3</th>\n",
       "      <td>-1.522345</td>\n",
       "      <td>-0.086674</td>\n",
       "      <td>0.251438</td>\n",
       "      <td>-0.113692</td>\n",
       "      <td>-0.104013</td>\n",
       "      <td>-0.201643</td>\n",
       "      <td>1</td>\n",
       "    </tr>\n",
       "    <tr>\n",
       "      <th>4</th>\n",
       "      <td>0.256636</td>\n",
       "      <td>-0.304257</td>\n",
       "      <td>-0.395747</td>\n",
       "      <td>-0.114444</td>\n",
       "      <td>-0.104035</td>\n",
       "      <td>-0.743858</td>\n",
       "      <td>1</td>\n",
       "    </tr>\n",
       "  </tbody>\n",
       "</table>\n",
       "</div>"
      ],
      "text/plain": [
       "    H (mag)  MOID (AU)    q (AU)    Q (AU)  period (yr)   i (deg)  PHA\n",
       "0 -0.402246  -0.409585 -0.301366 -0.113559    -0.104015 -0.724401    0\n",
       "1  0.124860  -0.419286 -0.180018 -0.115122    -0.104045 -0.545621    0\n",
       "2 -0.863463   0.003408 -0.908102 -0.114670    -0.104042 -0.230277    1\n",
       "3 -1.522345  -0.086674  0.251438 -0.113692    -0.104013 -0.201643    1\n",
       "4  0.256636  -0.304257 -0.395747 -0.114444    -0.104035 -0.743858    1"
      ]
     },
     "execution_count": 34,
     "metadata": {},
     "output_type": "execute_result"
    }
   ],
   "source": [
    "pca_df4 = data_stnd.iloc[:,2:8]\n",
    "pca_df4['PHA'] = data_stnd['PHA']\n",
    "pca_df4['PHA'] = pd.get_dummies(pca_df4['PHA'])\n",
    "pca_df4.head()"
   ]
  },
  {
   "cell_type": "code",
   "execution_count": 35,
   "metadata": {
    "collapsed": false
   },
   "outputs": [
    {
     "name": "stdout",
     "output_type": "stream",
     "text": [
      "[ 0.47487586  0.1950621   0.16688803  0.09923558  0.06511771 -0.00253526\n",
      "  0.00135599]\n"
     ]
    }
   ],
   "source": [
    "RR_4 = pca_df4.corr()\n",
    "eigen_RR_4 = np.linalg.eig(RR_4)\n",
    "print(eigen_RR_4[0] / sum(eigen_RR_4[0]))\n",
    "PCs_4 = np.dot(pca_df4, eigen_RR_4[1][:, :2])"
   ]
  },
  {
   "cell_type": "code",
   "execution_count": 36,
   "metadata": {
    "collapsed": false
   },
   "outputs": [
    {
     "data": {
      "text/plain": [
       "<matplotlib.text.Text at 0x7f9b09f19e50>"
      ]
     },
     "execution_count": 36,
     "metadata": {},
     "output_type": "execute_result"
    },
    {
     "data": {
      "image/png": "[encoded data removed]",
      "text/plain": [
       "<matplotlib.figure.Figure at 0x7f9b09f3a310>"
      ]
     },
     "metadata": {},
     "output_type": "display_data"
    }
   ],
   "source": [
    "pp.scatter(PCs_4[:, 0], PCs_4[:, 1])\n",
    "pp.xlabel('PC1')\n",
    "pp.ylabel('PC2')"
   ]
  },
  {
   "cell_type": "code",
   "execution_count": null,
   "metadata": {
    "collapsed": true
   },
   "outputs": [],
   "source": []
  }
 ],
 "metadata": {
  "kernelspec": {
   "display_name": "Python 2",
   "language": "python",
   "name": "python2"
  },
  "language_info": {
   "codemirror_mode": {
    "name": "ipython",
    "version": 2
   },
   "file_extension": ".py",
   "mimetype": "text/x-python",
   "name": "python",
   "nbconvert_exporter": "python",
   "pygments_lexer": "ipython2",
   "version": "2.7.13"
  }
 },
 "nbformat": 4,
 "nbformat_minor": 0
}
